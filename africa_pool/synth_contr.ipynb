{
  "nbformat": 4,
  "nbformat_minor": 0,
  "metadata": {
    "colab": {
      "name": "synth_contr.ipynb",
      "provenance": [],
      "authorship_tag": "ABX9TyNeA5+z70R/i37zbdMfvK+3",
      "include_colab_link": true
    },
    "kernelspec": {
      "name": "ir",
      "display_name": "R"
    },
    "language_info": {
      "name": "R"
    }
  },
  "cells": [
    {
      "cell_type": "markdown",
      "metadata": {
        "id": "view-in-github",
        "colab_type": "text"
      },
      "source": [
        "<a href=\"https://colab.research.google.com/github/ibukunlola/capstone/blob/main/model1/synth_contr.ipynb\" target=\"_parent\"><img src=\"https://colab.research.google.com/assets/colab-badge.svg\" alt=\"Open In Colab\"/></a>"
      ]
    },
    {
      "cell_type": "code",
      "source": [
        "# load Synth package\n",
        "install.packages(\"Synth\")\n",
        "library(Synth)\n",
        "library(tibble)\n",
        "library(dplyr)"
      ],
      "metadata": {
        "colab": {
          "base_uri": "https://localhost:8080/"
        },
        "id": "_qcxKCHaMdG1",
        "outputId": "b5313e24-7638-4bbc-a012-3cd88c6eb962"
      },
      "execution_count": 11,
      "outputs": [
        {
          "output_type": "stream",
          "name": "stderr",
          "text": [
            "Installing package into ‘/usr/local/lib/R/site-library’\n",
            "(as ‘lib’ is unspecified)\n",
            "\n"
          ]
        }
      ]
    },
    {
      "cell_type": "code",
      "execution_count": 12,
      "metadata": {
        "id": "5feaeOr7A-zr",
        "colab": {
          "base_uri": "https://localhost:8080/",
          "height": 412
        },
        "outputId": "06c3c482-8fa0-405f-9117-0fcc544bc1a5"
      },
      "outputs": [
        {
          "output_type": "display_data",
          "data": {
            "text/plain": [
              "   X country_name year fdi         pol_instability gni  curr_act_bal\n",
              "1  1 Angola       2010 -3227211182 -0.2261823      5950   7505954235\n",
              "2  1 Angola       2011 -3023770966 -0.3692378      6130  13084636207\n",
              "3  1 Angola       2012 -1464627991 -0.3893225      6810  13841185161\n",
              "4  1 Angola       2013 -7120017424 -0.3912335      7130   8145070112\n",
              "5  1 Angola       2014  3657514667 -0.3332320      7680  -3747517596\n",
              "6  1 Angola       2015 10028215163 -0.5008978      6960 -10272841903\n",
              "7  1 Angola       2016  -179517619 -0.3158988      6730  -3085195463\n",
              "8  1 Angola       2017 -7397295409 -0.3804490      6860   -632867148\n",
              "9  1 Angola       2018 -6456076413 -0.3356918      6550   7402606519\n",
              "10 1 Angola       2019 -4098478748 -0.3585250      6370   5137394880"
            ],
            "text/latex": "A data.frame: 10 × 7\n\\begin{tabular}{r|lllllll}\n  & X & country\\_name & year & fdi & pol\\_instability & gni & curr\\_act\\_bal\\\\\n  & <dbl> & <chr> & <int> & <dbl> & <dbl> & <dbl> & <dbl>\\\\\n\\hline\n\t1 & 1 & Angola & 2010 & -3227211182 & -0.2261823 & 5950 &   7505954235\\\\\n\t2 & 1 & Angola & 2011 & -3023770966 & -0.3692378 & 6130 &  13084636207\\\\\n\t3 & 1 & Angola & 2012 & -1464627991 & -0.3893225 & 6810 &  13841185161\\\\\n\t4 & 1 & Angola & 2013 & -7120017424 & -0.3912335 & 7130 &   8145070112\\\\\n\t5 & 1 & Angola & 2014 &  3657514667 & -0.3332320 & 7680 &  -3747517596\\\\\n\t6 & 1 & Angola & 2015 & 10028215163 & -0.5008978 & 6960 & -10272841903\\\\\n\t7 & 1 & Angola & 2016 &  -179517619 & -0.3158988 & 6730 &  -3085195463\\\\\n\t8 & 1 & Angola & 2017 & -7397295409 & -0.3804490 & 6860 &   -632867148\\\\\n\t9 & 1 & Angola & 2018 & -6456076413 & -0.3356918 & 6550 &   7402606519\\\\\n\t10 & 1 & Angola & 2019 & -4098478748 & -0.3585250 & 6370 &   5137394880\\\\\n\\end{tabular}\n",
            "text/markdown": "\nA data.frame: 10 × 7\n\n| <!--/--> | X &lt;dbl&gt; | country_name &lt;chr&gt; | year &lt;int&gt; | fdi &lt;dbl&gt; | pol_instability &lt;dbl&gt; | gni &lt;dbl&gt; | curr_act_bal &lt;dbl&gt; |\n|---|---|---|---|---|---|---|---|\n| 1 | 1 | Angola | 2010 | -3227211182 | -0.2261823 | 5950 |   7505954235 |\n| 2 | 1 | Angola | 2011 | -3023770966 | -0.3692378 | 6130 |  13084636207 |\n| 3 | 1 | Angola | 2012 | -1464627991 | -0.3893225 | 6810 |  13841185161 |\n| 4 | 1 | Angola | 2013 | -7120017424 | -0.3912335 | 7130 |   8145070112 |\n| 5 | 1 | Angola | 2014 |  3657514667 | -0.3332320 | 7680 |  -3747517596 |\n| 6 | 1 | Angola | 2015 | 10028215163 | -0.5008978 | 6960 | -10272841903 |\n| 7 | 1 | Angola | 2016 |  -179517619 | -0.3158988 | 6730 |  -3085195463 |\n| 8 | 1 | Angola | 2017 | -7397295409 | -0.3804490 | 6860 |   -632867148 |\n| 9 | 1 | Angola | 2018 | -6456076413 | -0.3356918 | 6550 |   7402606519 |\n| 10 | 1 | Angola | 2019 | -4098478748 | -0.3585250 | 6370 |   5137394880 |\n\n",
            "text/html": [
              "<table class=\"dataframe\">\n",
              "<caption>A data.frame: 10 × 7</caption>\n",
              "<thead>\n",
              "\t<tr><th></th><th scope=col>X</th><th scope=col>country_name</th><th scope=col>year</th><th scope=col>fdi</th><th scope=col>pol_instability</th><th scope=col>gni</th><th scope=col>curr_act_bal</th></tr>\n",
              "\t<tr><th></th><th scope=col>&lt;dbl&gt;</th><th scope=col>&lt;chr&gt;</th><th scope=col>&lt;int&gt;</th><th scope=col>&lt;dbl&gt;</th><th scope=col>&lt;dbl&gt;</th><th scope=col>&lt;dbl&gt;</th><th scope=col>&lt;dbl&gt;</th></tr>\n",
              "</thead>\n",
              "<tbody>\n",
              "\t<tr><th scope=row>1</th><td>1</td><td>Angola</td><td>2010</td><td>-3227211182</td><td>-0.2261823</td><td>5950</td><td>  7505954235</td></tr>\n",
              "\t<tr><th scope=row>2</th><td>1</td><td>Angola</td><td>2011</td><td>-3023770966</td><td>-0.3692378</td><td>6130</td><td> 13084636207</td></tr>\n",
              "\t<tr><th scope=row>3</th><td>1</td><td>Angola</td><td>2012</td><td>-1464627991</td><td>-0.3893225</td><td>6810</td><td> 13841185161</td></tr>\n",
              "\t<tr><th scope=row>4</th><td>1</td><td>Angola</td><td>2013</td><td>-7120017424</td><td>-0.3912335</td><td>7130</td><td>  8145070112</td></tr>\n",
              "\t<tr><th scope=row>5</th><td>1</td><td>Angola</td><td>2014</td><td> 3657514667</td><td>-0.3332320</td><td>7680</td><td> -3747517596</td></tr>\n",
              "\t<tr><th scope=row>6</th><td>1</td><td>Angola</td><td>2015</td><td>10028215163</td><td>-0.5008978</td><td>6960</td><td>-10272841903</td></tr>\n",
              "\t<tr><th scope=row>7</th><td>1</td><td>Angola</td><td>2016</td><td> -179517619</td><td>-0.3158988</td><td>6730</td><td> -3085195463</td></tr>\n",
              "\t<tr><th scope=row>8</th><td>1</td><td>Angola</td><td>2017</td><td>-7397295409</td><td>-0.3804490</td><td>6860</td><td>  -632867148</td></tr>\n",
              "\t<tr><th scope=row>9</th><td>1</td><td>Angola</td><td>2018</td><td>-6456076413</td><td>-0.3356918</td><td>6550</td><td>  7402606519</td></tr>\n",
              "\t<tr><th scope=row>10</th><td>1</td><td>Angola</td><td>2019</td><td>-4098478748</td><td>-0.3585250</td><td>6370</td><td>  5137394880</td></tr>\n",
              "</tbody>\n",
              "</table>\n"
            ]
          },
          "metadata": {}
        }
      ],
      "source": [
        "# load data with NA values\n",
        "data <- read.csv(url(\"https://raw.githubusercontent.com/ibukunlola/capstone/main/model1/average_df.csv\"))\n",
        "\n",
        "# create unique unit numbers for each country in the dataframe\n",
        "countries <- unique(data$country_name)\n",
        "count = 1\n",
        "for (country in countries){\n",
        "  indices <- which(data$country_name == country)\n",
        "  for (index in indices){\n",
        "    data$X[index] <- count\n",
        "  }\n",
        "  count = count+1\n",
        "}\n",
        "\n",
        "head(data, n = 10)"
      ]
    },
    {
      "cell_type": "code",
      "source": [
        "# show structure of dataset\n",
        "str(data)\n",
        "\n",
        "# summarize dataset\n",
        "summary(data)"
      ],
      "metadata": {
        "colab": {
          "base_uri": "https://localhost:8080/",
          "height": 399
        },
        "id": "Ow6MmaDvPzOM",
        "outputId": "e475e128-8a59-4a1a-9e00-8a16e8aa19f7"
      },
      "execution_count": 13,
      "outputs": [
        {
          "output_type": "stream",
          "name": "stdout",
          "text": [
            "'data.frame':\t480 obs. of  7 variables:\n",
            " $ X              : num  1 1 1 1 1 1 1 1 1 1 ...\n",
            " $ country_name   : chr  \"Angola\" \"Angola\" \"Angola\" \"Angola\" ...\n",
            " $ year           : int  2010 2011 2012 2013 2014 2015 2016 2017 2018 2019 ...\n",
            " $ fdi            : num  -3.23e+09 -3.02e+09 -1.46e+09 -7.12e+09 3.66e+09 ...\n",
            " $ pol_instability: num  -0.226 -0.369 -0.389 -0.391 -0.333 ...\n",
            " $ gni            : num  5950 6130 6810 7130 7680 6960 6730 6860 6550 6370 ...\n",
            " $ curr_act_bal   : num  7.51e+09 1.31e+10 1.38e+10 8.15e+09 -3.75e+09 ...\n"
          ]
        },
        {
          "output_type": "display_data",
          "data": {
            "text/plain": [
              "       X         country_name            year           fdi            \n",
              " Min.   : 1.00   Length:480         Min.   :2010   Min.   :-7.397e+09  \n",
              " 1st Qu.:12.75   Class :character   1st Qu.:2012   1st Qu.: 8.809e+07  \n",
              " Median :24.50   Mode  :character   Median :2014   Median : 3.579e+08  \n",
              " Mean   :24.50                      Mean   :2014   Mean   : 7.747e+08  \n",
              " 3rd Qu.:36.25                      3rd Qu.:2017   3rd Qu.: 9.599e+08  \n",
              " Max.   :48.00                      Max.   :2019   Max.   : 1.003e+10  \n",
              " pol_instability         gni         curr_act_bal       \n",
              " Min.   :-3.13097   Min.   :  610   Min.   :-2.128e+10  \n",
              " 1st Qu.:-1.13244   1st Qu.: 1588   1st Qu.:-1.346e+09  \n",
              " Median :-0.46042   Median : 2700   Median :-9.549e+08  \n",
              " Mean   :-0.59375   Mean   : 4748   Mean   :-1.121e+09  \n",
              " 3rd Qu.:-0.02507   3rd Qu.: 4962   3rd Qu.:-2.085e+08  \n",
              " Max.   : 1.11105   Max.   :27630   Max.   : 1.905e+10  "
            ]
          },
          "metadata": {}
        }
      ]
    },
    {
      "cell_type": "code",
      "source": [
        "# run synthetic control model\n",
        "\n",
        "dataprep.out <- dataprep(data, predictors = c('pol_instability', 'gni', 'curr_act_bal'), predictors.op = \"mean\", dependent = \"fdi\",\n",
        "                         time.variable = 'year', time.predictors.prior = c(2010:2016), unit.names.variable = \"country_name\",\n",
        "                         time.optimize.ssr = c(2010:2017), time.plot = 2010:2019, unit.variable = \"X\", treatment.identifier = \"Nigeria\",\n",
        "                         controls.identifier = c(setdiff(1:48, 34)))\n",
        "synth.out <- synth(dataprep.out)"
      ],
      "metadata": {
        "colab": {
          "base_uri": "https://localhost:8080/"
        },
        "id": "Cg3LVsVbMENc",
        "outputId": "d8ae93be-a957-429a-fbe6-fc654eeb5438"
      },
      "execution_count": 14,
      "outputs": [
        {
          "output_type": "stream",
          "name": "stdout",
          "text": [
            "\n",
            "X1, X0, Z1, Z0 all come directly from dataprep object.\n",
            "\n",
            "\n",
            "**************** \n",
            " searching for synthetic control unit  \n",
            " \n",
            "\n",
            "**************** \n",
            "**************** \n",
            "**************** \n",
            "\n",
            "MSPE (LOSS V): 2.526074e+19 \n",
            "\n",
            "solution.v:\n",
            " 0.009666798 0.9903332 0 \n",
            "\n",
            "solution.w:\n",
            " 0.003414923 0.002713565 0.002679524 0.003332365 0.006088777 0.00254492 0.003795696 0.01114542 0.004815732 0.003067998 0.01422681 0.003385724 0.004867567 0.1145582 0.003865002 0.003630059 0.005901159 0.003078939 0.002853115 0.002872821 0.004163748 0.003459544 0.005195499 0.002781867 0.003202344 0.003302642 0.002782071 0.005407477 0.004277547 0.002898942 0.00286223 0.002613928 0.004245896 0.002891494 0.002775441 0.002974062 0.003181535 0.002895212 0.6088602 0.003386644 0.009324133 0.09767755 0.002967705 0.002938083 0.003817408 0.002638504 0.003640011 \n",
            "\n"
          ]
        }
      ]
    },
    {
      "cell_type": "code",
      "source": [
        "# prepare results tables and graphs\n",
        "synth.tables <- synth.tab(dataprep.res = dataprep.out, synth.res = synth.out)\n",
        "print(synth.tables)\n",
        "\n",
        "path.plot(dataprep.res = dataprep.out,synth.res = synth.out)\n",
        "\n",
        "gaps.plot(dataprep.res = dataprep.out,synth.res = synth.out)\n"
      ],
      "metadata": {
        "colab": {
          "base_uri": "https://localhost:8080/",
          "height": 1000
        },
        "id": "LE1jHCjVQsoF",
        "outputId": "70f8df9f-a69a-4880-f8a3-0f57af963f78"
      },
      "execution_count": 15,
      "outputs": [
        {
          "output_type": "stream",
          "name": "stdout",
          "text": [
            "$tab.pred\n",
            "                      Treated     Synthetic   Sample Mean\n",
            "pol_instability -2.033000e+00 -2.033000e+00 -5.460000e-01\n",
            "gni              4.932857e+03  4.932843e+03  4.572781e+03\n",
            "curr_act_bal     7.249717e+09 -1.457746e+09 -1.284020e+09\n",
            "\n",
            "$tab.v\n",
            "                v.weights\n",
            "pol_instability 0.01     \n",
            "gni             0.99     \n",
            "curr_act_bal    0        \n",
            "\n",
            "$tab.w\n",
            "   w.weights               unit.names unit.numbers\n",
            "1      0.003                   Angola            1\n",
            "2      0.003                    Benin            2\n",
            "3      0.003                 Botswana            3\n",
            "4      0.003             Burkina Faso            4\n",
            "5      0.006                  Burundi            5\n",
            "6      0.003               Cabo Verde            6\n",
            "7      0.004                 Cameroon            7\n",
            "8      0.011 Central African Republic            8\n",
            "9      0.005                     Chad            9\n",
            "10     0.003                  Comoros           10\n",
            "11     0.014         Congo, Dem. Rep.           11\n",
            "12     0.003              Congo, Rep.           12\n",
            "13     0.005            Cote d'Ivoire           13\n",
            "14     0.115        Equatorial Guinea           14\n",
            "15     0.004                  Eritrea           15\n",
            "16     0.004                 Eswatini           16\n",
            "17     0.006                 Ethiopia           17\n",
            "18     0.003                    Gabon           18\n",
            "19     0.003              Gambia, The           19\n",
            "20     0.003                    Ghana           20\n",
            "21     0.004                   Guinea           21\n",
            "22     0.003            Guinea-Bissau           22\n",
            "23     0.005                    Kenya           23\n",
            "24     0.003                  Lesotho           24\n",
            "25     0.003                  Liberia           25\n",
            "26     0.003               Madagascar           26\n",
            "27     0.003                   Malawi           27\n",
            "28     0.005                     Mali           28\n",
            "29     0.004               Mauritania           29\n",
            "30     0.003                Mauritius           30\n",
            "31     0.003               Mozambique           31\n",
            "32     0.003                  Namibia           32\n",
            "33     0.004                    Niger           33\n",
            "35     0.003                   Rwanda           35\n",
            "36     0.003    Sao Tome and Principe           36\n",
            "37     0.003                  Senegal           37\n",
            "38     0.003               Seychelles           38\n",
            "39     0.003             Sierra Leone           39\n",
            "40     0.609                  Somalia           40\n",
            "41     0.003             South Africa           41\n",
            "42     0.009              South Sudan           42\n",
            "43     0.098                    Sudan           43\n",
            "44     0.003                 Tanzania           44\n",
            "45     0.003                     Togo           45\n",
            "46     0.004                   Uganda           46\n",
            "47     0.003                   Zambia           47\n",
            "48     0.004                 Zimbabwe           48\n",
            "\n",
            "$tab.loss\n",
            "           Loss W       Loss V\n",
            "[1,] 1.061767e-09 2.526074e+19\n",
            "\n"
          ]
        },
        {
          "output_type": "display_data",
          "data": {
            "image/png": "[encoded data removed]",
            "text/plain": [
              "Plot with title “NA”"
            ]
          },
          "metadata": {
            "image/png": {
              "width": 420,
              "height": 420
            }
          }
        },
        {
          "output_type": "display_data",
          "data": {
            "image/png": "[encoded data removed]",
            "text/plain": [
              "Plot with title “Gaps: Treated - Synthetic”"
            ]
          },
          "metadata": {
            "image/png": {
              "width": 420,
              "height": 420
            }
          }
        }
      ]
    },
    {
      "cell_type": "code",
      "source": [
        ""
      ],
      "metadata": {
        "id": "ANEOuAj9awhk"
      },
      "execution_count": null,
      "outputs": []
    }
  ]
}
