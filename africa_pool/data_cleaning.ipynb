{
  "nbformat": 4,
  "nbformat_minor": 0,
  "metadata": {
    "colab": {
      "name": "data_cleaning1.ipynb",
      "provenance": [],
      "collapsed_sections": [],
      "include_colab_link": true
    },
    "kernelspec": {
      "name": "python3",
      "display_name": "Python 3"
    },
    "language_info": {
      "name": "python"
    }
  },
  "cells": [
    {
      "cell_type": "markdown",
      "metadata": {
        "id": "view-in-github",
        "colab_type": "text"
      },
      "source": [
        "<a href=\"https://colab.research.google.com/github/ibukunlola/capstone/blob/main/model1/data_cleaning1.ipynb\" target=\"_parent\"><img src=\"https://colab.research.google.com/assets/colab-badge.svg\" alt=\"Open In Colab\"/></a>"
      ]
    },
    {
      "cell_type": "code",
      "metadata": {
        "id": "f_kv-uNNGe_R"
      },
      "source": [
        "import pandas as pd\n",
        "\n",
        "fdi = pd.read_csv(\"https://raw.githubusercontent.com/ibukunlola/capstone/main/model1/fdi.csv\")\n",
        "pol_instability = pd.read_csv(\"https://raw.githubusercontent.com/ibukunlola/capstone/main/model1/pol_instability.csv\")\n",
        "gni = pd.read_csv(\"https://raw.githubusercontent.com/ibukunlola/capstone/main/model1/gni.csv\")\n",
        "curr_act_bal = pd.read_csv(\"https://raw.githubusercontent.com/ibukunlola/capstone/main/model1/current_act_bal.csv\")"
      ],
      "execution_count": null,
      "outputs": []
    },
    {
      "cell_type": "code",
      "metadata": {
        "id": "Kvu6hs8lO35U"
      },
      "source": [
        "clean_df = pd.DataFrame(columns=['country_name', 'year', 'fdi', 'pol_instability', 'gni', 'curr_act_bal'])\n",
        "clean_df_fdi = pd.DataFrame(columns=['country_name', 'year', 'fdi'])\n",
        "clean_df_pol_instability = pd.DataFrame(columns=['country_name', 'year', 'pol_instability'])\n",
        "clean_df_gni = pd.DataFrame(columns=['country_name', 'year', 'gni'])\n",
        "clean_df_curr_act_bal = pd.DataFrame(columns=['country_name', 'year', 'curr_act_bal'])"
      ],
      "execution_count": null,
      "outputs": []
    },
    {
      "cell_type": "code",
      "metadata": {
        "id": "OgB1McHkHAdh"
      },
      "source": [
        "def insertion(df, data):\n",
        "  index = 0\n",
        "\n",
        "  for _, row in data.iterrows():\n",
        "    for year in range(2010, 2020):\n",
        "      df.loc[index] = [row[\"Country Name\"], year, row[str(year)]]\n",
        "      index += 1"
      ],
      "execution_count": null,
      "outputs": []
    },
    {
      "cell_type": "code",
      "metadata": {
        "id": "ENRlKlvDMF3q"
      },
      "source": [
        "insertion(clean_df_fdi, fdi)\n",
        "insertion(clean_df_pol_instability, pol_instability)\n",
        "insertion(clean_df_gni, gni)\n",
        "insertion(clean_df_curr_act_bal, curr_act_bal)"
      ],
      "execution_count": null,
      "outputs": []
    },
    {
      "cell_type": "code",
      "metadata": {
        "colab": {
          "base_uri": "https://localhost:8080/",
          "height": 206
        },
        "id": "trX6mHQRP5uM",
        "outputId": "60c1900e-87e0-41cc-bbe2-2375146c87f0"
      },
      "source": [
        "clean_df_fdi.head(5)\n",
        "clean_df_pol_instability.head(5)\n",
        "clean_df_gni.head(5)\n",
        "clean_df_curr_act_bal.head(5)"
      ],
      "execution_count": null,
      "outputs": [
        {
          "output_type": "execute_result",
          "data": {
            "text/html": [
              "<div>\n",
              "<style scoped>\n",
              "    .dataframe tbody tr th:only-of-type {\n",
              "        vertical-align: middle;\n",
              "    }\n",
              "\n",
              "    .dataframe tbody tr th {\n",
              "        vertical-align: top;\n",
              "    }\n",
              "\n",
              "    .dataframe thead th {\n",
              "        text-align: right;\n",
              "    }\n",
              "</style>\n",
              "<table border=\"1\" class=\"dataframe\">\n",
              "  <thead>\n",
              "    <tr style=\"text-align: right;\">\n",
              "      <th></th>\n",
              "      <th>country_name</th>\n",
              "      <th>year</th>\n",
              "      <th>curr_act_bal</th>\n",
              "    </tr>\n",
              "  </thead>\n",
              "  <tbody>\n",
              "    <tr>\n",
              "      <th>0</th>\n",
              "      <td>Angola</td>\n",
              "      <td>2010</td>\n",
              "      <td>7.505954e+09</td>\n",
              "    </tr>\n",
              "    <tr>\n",
              "      <th>1</th>\n",
              "      <td>Angola</td>\n",
              "      <td>2011</td>\n",
              "      <td>1.308464e+10</td>\n",
              "    </tr>\n",
              "    <tr>\n",
              "      <th>2</th>\n",
              "      <td>Angola</td>\n",
              "      <td>2012</td>\n",
              "      <td>1.384119e+10</td>\n",
              "    </tr>\n",
              "    <tr>\n",
              "      <th>3</th>\n",
              "      <td>Angola</td>\n",
              "      <td>2013</td>\n",
              "      <td>8.145070e+09</td>\n",
              "    </tr>\n",
              "    <tr>\n",
              "      <th>4</th>\n",
              "      <td>Angola</td>\n",
              "      <td>2014</td>\n",
              "      <td>-3.747518e+09</td>\n",
              "    </tr>\n",
              "  </tbody>\n",
              "</table>\n",
              "</div>"
            ],
            "text/plain": [
              "  country_name  year  curr_act_bal\n",
              "0       Angola  2010  7.505954e+09\n",
              "1       Angola  2011  1.308464e+10\n",
              "2       Angola  2012  1.384119e+10\n",
              "3       Angola  2013  8.145070e+09\n",
              "4       Angola  2014 -3.747518e+09"
            ]
          },
          "metadata": {},
          "execution_count": 5
        }
      ]
    },
    {
      "cell_type": "code",
      "metadata": {
        "id": "u-hH3kCbUEs5"
      },
      "source": [
        "clean = clean_df_fdi.merge(clean_df_pol_instability, how='inner', left_on=[\"country_name\", \"year\"], right_on=[\"country_name\", \"year\"])\n",
        "clean = clean.merge(clean_df_gni, how='inner', left_on=[\"country_name\", \"year\"], right_on=[\"country_name\", \"year\"])\n",
        "clean = clean.merge(clean_df_curr_act_bal, how='inner', left_on=[\"country_name\", \"year\"], right_on=[\"country_name\", \"year\"])"
      ],
      "execution_count": null,
      "outputs": []
    },
    {
      "cell_type": "code",
      "metadata": {
        "colab": {
          "base_uri": "https://localhost:8080/",
          "height": 424
        },
        "id": "fKNgOjqwUF3i",
        "outputId": "433216ec-1bd4-45a2-beb1-fd55f82caee5"
      },
      "source": [
        "clean"
      ],
      "execution_count": null,
      "outputs": [
        {
          "output_type": "execute_result",
          "data": {
            "text/html": [
              "<div>\n",
              "<style scoped>\n",
              "    .dataframe tbody tr th:only-of-type {\n",
              "        vertical-align: middle;\n",
              "    }\n",
              "\n",
              "    .dataframe tbody tr th {\n",
              "        vertical-align: top;\n",
              "    }\n",
              "\n",
              "    .dataframe thead th {\n",
              "        text-align: right;\n",
              "    }\n",
              "</style>\n",
              "<table border=\"1\" class=\"dataframe\">\n",
              "  <thead>\n",
              "    <tr style=\"text-align: right;\">\n",
              "      <th></th>\n",
              "      <th>country_name</th>\n",
              "      <th>year</th>\n",
              "      <th>fdi</th>\n",
              "      <th>pol_instability</th>\n",
              "      <th>gni</th>\n",
              "      <th>curr_act_bal</th>\n",
              "    </tr>\n",
              "  </thead>\n",
              "  <tbody>\n",
              "    <tr>\n",
              "      <th>0</th>\n",
              "      <td>Angola</td>\n",
              "      <td>2010</td>\n",
              "      <td>-3.227211e+09</td>\n",
              "      <td>-0.226182</td>\n",
              "      <td>5950.0</td>\n",
              "      <td>7.505954e+09</td>\n",
              "    </tr>\n",
              "    <tr>\n",
              "      <th>1</th>\n",
              "      <td>Angola</td>\n",
              "      <td>2011</td>\n",
              "      <td>-3.023771e+09</td>\n",
              "      <td>-0.369238</td>\n",
              "      <td>6130.0</td>\n",
              "      <td>1.308464e+10</td>\n",
              "    </tr>\n",
              "    <tr>\n",
              "      <th>2</th>\n",
              "      <td>Angola</td>\n",
              "      <td>2012</td>\n",
              "      <td>-1.464628e+09</td>\n",
              "      <td>-0.389323</td>\n",
              "      <td>6810.0</td>\n",
              "      <td>1.384119e+10</td>\n",
              "    </tr>\n",
              "    <tr>\n",
              "      <th>3</th>\n",
              "      <td>Angola</td>\n",
              "      <td>2013</td>\n",
              "      <td>-7.120017e+09</td>\n",
              "      <td>-0.391234</td>\n",
              "      <td>7130.0</td>\n",
              "      <td>8.145070e+09</td>\n",
              "    </tr>\n",
              "    <tr>\n",
              "      <th>4</th>\n",
              "      <td>Angola</td>\n",
              "      <td>2014</td>\n",
              "      <td>3.657515e+09</td>\n",
              "      <td>-0.333232</td>\n",
              "      <td>7680.0</td>\n",
              "      <td>-3.747518e+09</td>\n",
              "    </tr>\n",
              "    <tr>\n",
              "      <th>...</th>\n",
              "      <td>...</td>\n",
              "      <td>...</td>\n",
              "      <td>...</td>\n",
              "      <td>...</td>\n",
              "      <td>...</td>\n",
              "      <td>...</td>\n",
              "    </tr>\n",
              "    <tr>\n",
              "      <th>475</th>\n",
              "      <td>Zimbabwe</td>\n",
              "      <td>2015</td>\n",
              "      <td>3.992000e+08</td>\n",
              "      <td>-0.618156</td>\n",
              "      <td>2410.0</td>\n",
              "      <td>-1.678451e+09</td>\n",
              "    </tr>\n",
              "    <tr>\n",
              "      <th>476</th>\n",
              "      <td>Zimbabwe</td>\n",
              "      <td>2016</td>\n",
              "      <td>3.430138e+08</td>\n",
              "      <td>-0.619938</td>\n",
              "      <td>2560.0</td>\n",
              "      <td>-7.179652e+08</td>\n",
              "    </tr>\n",
              "    <tr>\n",
              "      <th>477</th>\n",
              "      <td>Zimbabwe</td>\n",
              "      <td>2017</td>\n",
              "      <td>2.471877e+08</td>\n",
              "      <td>-0.708769</td>\n",
              "      <td>3210.0</td>\n",
              "      <td>-3.078109e+08</td>\n",
              "    </tr>\n",
              "    <tr>\n",
              "      <th>478</th>\n",
              "      <td>Zimbabwe</td>\n",
              "      <td>2018</td>\n",
              "      <td>7.446372e+08</td>\n",
              "      <td>-0.722774</td>\n",
              "      <td>3370.0</td>\n",
              "      <td>NaN</td>\n",
              "    </tr>\n",
              "    <tr>\n",
              "      <th>479</th>\n",
              "      <td>Zimbabwe</td>\n",
              "      <td>2019</td>\n",
              "      <td>2.800000e+08</td>\n",
              "      <td>-0.959749</td>\n",
              "      <td>3100.0</td>\n",
              "      <td>NaN</td>\n",
              "    </tr>\n",
              "  </tbody>\n",
              "</table>\n",
              "<p>480 rows × 6 columns</p>\n",
              "</div>"
            ],
            "text/plain": [
              "    country_name  year           fdi  pol_instability     gni  curr_act_bal\n",
              "0         Angola  2010 -3.227211e+09        -0.226182  5950.0  7.505954e+09\n",
              "1         Angola  2011 -3.023771e+09        -0.369238  6130.0  1.308464e+10\n",
              "2         Angola  2012 -1.464628e+09        -0.389323  6810.0  1.384119e+10\n",
              "3         Angola  2013 -7.120017e+09        -0.391234  7130.0  8.145070e+09\n",
              "4         Angola  2014  3.657515e+09        -0.333232  7680.0 -3.747518e+09\n",
              "..           ...   ...           ...              ...     ...           ...\n",
              "475     Zimbabwe  2015  3.992000e+08        -0.618156  2410.0 -1.678451e+09\n",
              "476     Zimbabwe  2016  3.430138e+08        -0.619938  2560.0 -7.179652e+08\n",
              "477     Zimbabwe  2017  2.471877e+08        -0.708769  3210.0 -3.078109e+08\n",
              "478     Zimbabwe  2018  7.446372e+08        -0.722774  3370.0           NaN\n",
              "479     Zimbabwe  2019  2.800000e+08        -0.959749  3100.0           NaN\n",
              "\n",
              "[480 rows x 6 columns]"
            ]
          },
          "metadata": {},
          "execution_count": 7
        }
      ]
    },
    {
      "cell_type": "code",
      "metadata": {
        "id": "WDsfbUnmUu30"
      },
      "source": [
        "clean.to_csv(\"clean_df.csv\")\n"
      ],
      "execution_count": null,
      "outputs": []
    },
    {
      "cell_type": "code",
      "metadata": {
        "id": "h9vmHuWGUw87"
      },
      "source": [
        "nan_removed_df = clean.dropna() \n",
        "nan_removed_df.to_csv(\"nan_removed_df.csv\")"
      ],
      "execution_count": null,
      "outputs": []
    },
    {
      "cell_type": "code",
      "metadata": {
        "id": "06aPDmobVCcE"
      },
      "source": [
        "average_df = clean.fillna(clean.mean())"
      ],
      "execution_count": null,
      "outputs": []
    },
    {
      "cell_type": "code",
      "metadata": {
        "id": "nfryN6bFVQzU"
      },
      "source": [
        "average_df.to_csv(\"average_df.csv\")"
      ],
      "execution_count": null,
      "outputs": []
    },
    {
      "cell_type": "code",
      "source": [
        ""
      ],
      "metadata": {
        "id": "DLBQDIIRSZJ0"
      },
      "execution_count": null,
      "outputs": []
    }
  ]
}
