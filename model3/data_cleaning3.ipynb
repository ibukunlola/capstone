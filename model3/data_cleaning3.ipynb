{
  "nbformat": 4,
  "nbformat_minor": 0,
  "metadata": {
    "colab": {
      "name": "data_cleaning3.ipynb",
      "provenance": [],
      "collapsed_sections": [],
      "include_colab_link": true
    },
    "kernelspec": {
      "name": "python3",
      "display_name": "Python 3"
    },
    "language_info": {
      "name": "python"
    }
  },
  "cells": [
    {
      "cell_type": "markdown",
      "metadata": {
        "id": "view-in-github",
        "colab_type": "text"
      },
      "source": [
        "<a href=\"https://colab.research.google.com/github/ibukunlola/capstone/blob/main/model3/data_cleaning3.ipynb\" target=\"_parent\"><img src=\"https://colab.research.google.com/assets/colab-badge.svg\" alt=\"Open In Colab\"/></a>"
      ]
    },
    {
      "cell_type": "code",
      "metadata": {
        "id": "f_kv-uNNGe_R"
      },
      "source": [
        "import pandas as pd\n",
        "\n",
        "fdi = pd.read_csv(\"https://raw.githubusercontent.com/ibukunlola/capstone/main/model3/02_01_fdi.csv\")\n",
        "gdp = pd.read_csv(\"https://raw.githubusercontent.com/ibukunlola/capstone/main/model3/02_01_gdp.csv\")\n",
        "gni = pd.read_csv(\"https://raw.githubusercontent.com/ibukunlola/capstone/main/model3/02_01_gni.csv\")\n",
        "pol_stab = pd.read_csv(\"https://raw.githubusercontent.com/ibukunlola/capstone/main/model3/02_01_pol_stab.csv\")\n",
        "pop = pd.read_csv(\"https://raw.githubusercontent.com/ibukunlola/capstone/main/model3/02_01_pop.csv\")"
      ],
      "execution_count": 1,
      "outputs": []
    },
    {
      "cell_type": "code",
      "metadata": {
        "id": "Kvu6hs8lO35U"
      },
      "source": [
        "clean_df = pd.DataFrame(columns=['country_name', 'year', 'fdi', 'gdp', 'gni', 'pol_stab', 'pop'])\n",
        "clean_df_fdi = pd.DataFrame(columns=['country_name', 'year', 'fdi'])\n",
        "clean_df_pol_stab = pd.DataFrame(columns=['country_name', 'year', 'pol_stab'])\n",
        "clean_df_gni = pd.DataFrame(columns=['country_name', 'year', 'gni'])\n",
        "clean_df_gdp = pd.DataFrame(columns=['country_name', 'year', 'gdp'])\n",
        "clean_df_pop = pd.DataFrame(columns=['country_name', 'year', 'pop'])"
      ],
      "execution_count": 2,
      "outputs": []
    },
    {
      "cell_type": "code",
      "metadata": {
        "id": "OgB1McHkHAdh"
      },
      "source": [
        "def insertion(df, data):\n",
        "  index = 0\n",
        "  for _, row in data.iterrows():\n",
        "    for year in range(2010, 2020):\n",
        "      df.loc[index] = [row[\"Country Name\"], year, row[str(year)]]\n",
        "      index += 1"
      ],
      "execution_count": 3,
      "outputs": []
    },
    {
      "cell_type": "code",
      "metadata": {
        "id": "ENRlKlvDMF3q"
      },
      "source": [
        "insertion(clean_df_fdi, fdi)\n",
        "insertion(clean_df_pol_stab, pol_stab)\n",
        "insertion(clean_df_gni, gni)\n",
        "insertion(clean_df_gdp, gdp)\n",
        "insertion(clean_df_pop, pop)"
      ],
      "execution_count": 4,
      "outputs": []
    },
    {
      "cell_type": "code",
      "metadata": {
        "colab": {
          "base_uri": "https://localhost:8080/",
          "height": 206
        },
        "id": "trX6mHQRP5uM",
        "outputId": "4a62ba34-a2e5-41b5-8ab2-c53031a9c1e7"
      },
      "source": [
        "clean_df_fdi.head(5)\n",
        "clean_df_pol_stab.head(5)\n",
        "clean_df_gni.head(5)\n",
        "clean_df_gdp.head(5)\n",
        "clean_df_pop.head(5)"
      ],
      "execution_count": 5,
      "outputs": [
        {
          "output_type": "execute_result",
          "data": {
            "text/html": [
              "\n",
              "  <div id=\"df-080184ca-a8ba-41c8-9c79-472cd2448977\">\n",
              "    <div class=\"colab-df-container\">\n",
              "      <div>\n",
              "<style scoped>\n",
              "    .dataframe tbody tr th:only-of-type {\n",
              "        vertical-align: middle;\n",
              "    }\n",
              "\n",
              "    .dataframe tbody tr th {\n",
              "        vertical-align: top;\n",
              "    }\n",
              "\n",
              "    .dataframe thead th {\n",
              "        text-align: right;\n",
              "    }\n",
              "</style>\n",
              "<table border=\"1\" class=\"dataframe\">\n",
              "  <thead>\n",
              "    <tr style=\"text-align: right;\">\n",
              "      <th></th>\n",
              "      <th>country_name</th>\n",
              "      <th>year</th>\n",
              "      <th>pop</th>\n",
              "    </tr>\n",
              "  </thead>\n",
              "  <tbody>\n",
              "    <tr>\n",
              "      <th>0</th>\n",
              "      <td>Afghanistan</td>\n",
              "      <td>2010</td>\n",
              "      <td>29185511</td>\n",
              "    </tr>\n",
              "    <tr>\n",
              "      <th>1</th>\n",
              "      <td>Afghanistan</td>\n",
              "      <td>2011</td>\n",
              "      <td>30117411</td>\n",
              "    </tr>\n",
              "    <tr>\n",
              "      <th>2</th>\n",
              "      <td>Afghanistan</td>\n",
              "      <td>2012</td>\n",
              "      <td>31161378.0</td>\n",
              "    </tr>\n",
              "    <tr>\n",
              "      <th>3</th>\n",
              "      <td>Afghanistan</td>\n",
              "      <td>2013</td>\n",
              "      <td>32269592.0</td>\n",
              "    </tr>\n",
              "    <tr>\n",
              "      <th>4</th>\n",
              "      <td>Afghanistan</td>\n",
              "      <td>2014</td>\n",
              "      <td>33370804.0</td>\n",
              "    </tr>\n",
              "  </tbody>\n",
              "</table>\n",
              "</div>\n",
              "      <button class=\"colab-df-convert\" onclick=\"convertToInteractive('df-080184ca-a8ba-41c8-9c79-472cd2448977')\"\n",
              "              title=\"Convert this dataframe to an interactive table.\"\n",
              "              style=\"display:none;\">\n",
              "        \n",
              "  <svg xmlns=\"http://www.w3.org/2000/svg\" height=\"24px\"viewBox=\"0 0 24 24\"\n",
              "       width=\"24px\">\n",
              "    <path d=\"M0 0h24v24H0V0z\" fill=\"none\"/>\n",
              "    <path d=\"M18.56 5.44l.94 2.06.94-2.06 2.06-.94-2.06-.94-.94-2.06-.94 2.06-2.06.94zm-11 1L8.5 8.5l.94-2.06 2.06-.94-2.06-.94L8.5 2.5l-.94 2.06-2.06.94zm10 10l.94 2.06.94-2.06 2.06-.94-2.06-.94-.94-2.06-.94 2.06-2.06.94z\"/><path d=\"M17.41 7.96l-1.37-1.37c-.4-.4-.92-.59-1.43-.59-.52 0-1.04.2-1.43.59L10.3 9.45l-7.72 7.72c-.78.78-.78 2.05 0 2.83L4 21.41c.39.39.9.59 1.41.59.51 0 1.02-.2 1.41-.59l7.78-7.78 2.81-2.81c.8-.78.8-2.07 0-2.86zM5.41 20L4 18.59l7.72-7.72 1.47 1.35L5.41 20z\"/>\n",
              "  </svg>\n",
              "      </button>\n",
              "      \n",
              "  <style>\n",
              "    .colab-df-container {\n",
              "      display:flex;\n",
              "      flex-wrap:wrap;\n",
              "      gap: 12px;\n",
              "    }\n",
              "\n",
              "    .colab-df-convert {\n",
              "      background-color: #E8F0FE;\n",
              "      border: none;\n",
              "      border-radius: 50%;\n",
              "      cursor: pointer;\n",
              "      display: none;\n",
              "      fill: #1967D2;\n",
              "      height: 32px;\n",
              "      padding: 0 0 0 0;\n",
              "      width: 32px;\n",
              "    }\n",
              "\n",
              "    .colab-df-convert:hover {\n",
              "      background-color: #E2EBFA;\n",
              "      box-shadow: 0px 1px 2px rgba(60, 64, 67, 0.3), 0px 1px 3px 1px rgba(60, 64, 67, 0.15);\n",
              "      fill: #174EA6;\n",
              "    }\n",
              "\n",
              "    [theme=dark] .colab-df-convert {\n",
              "      background-color: #3B4455;\n",
              "      fill: #D2E3FC;\n",
              "    }\n",
              "\n",
              "    [theme=dark] .colab-df-convert:hover {\n",
              "      background-color: #434B5C;\n",
              "      box-shadow: 0px 1px 3px 1px rgba(0, 0, 0, 0.15);\n",
              "      filter: drop-shadow(0px 1px 2px rgba(0, 0, 0, 0.3));\n",
              "      fill: #FFFFFF;\n",
              "    }\n",
              "  </style>\n",
              "\n",
              "      <script>\n",
              "        const buttonEl =\n",
              "          document.querySelector('#df-080184ca-a8ba-41c8-9c79-472cd2448977 button.colab-df-convert');\n",
              "        buttonEl.style.display =\n",
              "          google.colab.kernel.accessAllowed ? 'block' : 'none';\n",
              "\n",
              "        async function convertToInteractive(key) {\n",
              "          const element = document.querySelector('#df-080184ca-a8ba-41c8-9c79-472cd2448977');\n",
              "          const dataTable =\n",
              "            await google.colab.kernel.invokeFunction('convertToInteractive',\n",
              "                                                     [key], {});\n",
              "          if (!dataTable) return;\n",
              "\n",
              "          const docLinkHtml = 'Like what you see? Visit the ' +\n",
              "            '<a target=\"_blank\" href=https://colab.research.google.com/notebooks/data_table.ipynb>data table notebook</a>'\n",
              "            + ' to learn more about interactive tables.';\n",
              "          element.innerHTML = '';\n",
              "          dataTable['output_type'] = 'display_data';\n",
              "          await google.colab.output.renderOutput(dataTable, element);\n",
              "          const docLink = document.createElement('div');\n",
              "          docLink.innerHTML = docLinkHtml;\n",
              "          element.appendChild(docLink);\n",
              "        }\n",
              "      </script>\n",
              "    </div>\n",
              "  </div>\n",
              "  "
            ],
            "text/plain": [
              "  country_name  year         pop\n",
              "0  Afghanistan  2010    29185511\n",
              "1  Afghanistan  2011    30117411\n",
              "2  Afghanistan  2012  31161378.0\n",
              "3  Afghanistan  2013  32269592.0\n",
              "4  Afghanistan  2014  33370804.0"
            ]
          },
          "metadata": {},
          "execution_count": 5
        }
      ]
    },
    {
      "cell_type": "code",
      "metadata": {
        "id": "u-hH3kCbUEs5"
      },
      "source": [
        "clean = clean_df_fdi.merge(clean_df_pol_stab, how='inner', left_on=[\"country_name\", \"year\"], right_on=[\"country_name\", \"year\"])\n",
        "clean = clean.merge(clean_df_gni, how='inner', left_on=[\"country_name\", \"year\"], right_on=[\"country_name\", \"year\"])\n",
        "clean = clean.merge(clean_df_gdp, how='inner', left_on=[\"country_name\", \"year\"], right_on=[\"country_name\", \"year\"])\n",
        "clean = clean.merge(clean_df_pop, how='inner', left_on=[\"country_name\", \"year\"], right_on=[\"country_name\", \"year\"])\n"
      ],
      "execution_count": 6,
      "outputs": []
    },
    {
      "cell_type": "code",
      "metadata": {
        "colab": {
          "base_uri": "https://localhost:8080/",
          "height": 487
        },
        "id": "fKNgOjqwUF3i",
        "outputId": "0c78b25c-4e9a-414d-c886-0de5013f799e"
      },
      "source": [
        "clean"
      ],
      "execution_count": 7,
      "outputs": [
        {
          "output_type": "execute_result",
          "data": {
            "text/html": [
              "\n",
              "  <div id=\"df-7bb767f7-ff1c-468e-b21d-d481c497ea0c\">\n",
              "    <div class=\"colab-df-container\">\n",
              "      <div>\n",
              "<style scoped>\n",
              "    .dataframe tbody tr th:only-of-type {\n",
              "        vertical-align: middle;\n",
              "    }\n",
              "\n",
              "    .dataframe tbody tr th {\n",
              "        vertical-align: top;\n",
              "    }\n",
              "\n",
              "    .dataframe thead th {\n",
              "        text-align: right;\n",
              "    }\n",
              "</style>\n",
              "<table border=\"1\" class=\"dataframe\">\n",
              "  <thead>\n",
              "    <tr style=\"text-align: right;\">\n",
              "      <th></th>\n",
              "      <th>country_name</th>\n",
              "      <th>year</th>\n",
              "      <th>fdi</th>\n",
              "      <th>pol_stab</th>\n",
              "      <th>gni</th>\n",
              "      <th>gdp</th>\n",
              "      <th>pop</th>\n",
              "    </tr>\n",
              "  </thead>\n",
              "  <tbody>\n",
              "    <tr>\n",
              "      <th>0</th>\n",
              "      <td>Afghanistan</td>\n",
              "      <td>2010</td>\n",
              "      <td>-1.920225e+08</td>\n",
              "      <td>-2.579152</td>\n",
              "      <td>1.588461e+10</td>\n",
              "      <td>1.585668e+10</td>\n",
              "      <td>29185511</td>\n",
              "    </tr>\n",
              "    <tr>\n",
              "      <th>1</th>\n",
              "      <td>Afghanistan</td>\n",
              "      <td>2011</td>\n",
              "      <td>-5.103628e+07</td>\n",
              "      <td>-2.502060</td>\n",
              "      <td>1.778570e+10</td>\n",
              "      <td>1.780511e+10</td>\n",
              "      <td>30117411</td>\n",
              "    </tr>\n",
              "    <tr>\n",
              "      <th>2</th>\n",
              "      <td>Afghanistan</td>\n",
              "      <td>2012</td>\n",
              "      <td>-6.568451e+07</td>\n",
              "      <td>-2.418561</td>\n",
              "      <td>1.993866e+10</td>\n",
              "      <td>1.990732e+10</td>\n",
              "      <td>31161378.0</td>\n",
              "    </tr>\n",
              "    <tr>\n",
              "      <th>3</th>\n",
              "      <td>Afghanistan</td>\n",
              "      <td>2013</td>\n",
              "      <td>-4.777403e+07</td>\n",
              "      <td>-2.519349</td>\n",
              "      <td>2.021669e+10</td>\n",
              "      <td>2.014640e+10</td>\n",
              "      <td>32269592.0</td>\n",
              "    </tr>\n",
              "    <tr>\n",
              "      <th>4</th>\n",
              "      <td>Afghanistan</td>\n",
              "      <td>2014</td>\n",
              "      <td>-4.299442e+07</td>\n",
              "      <td>-2.411068</td>\n",
              "      <td>2.049475e+10</td>\n",
              "      <td>2.049713e+10</td>\n",
              "      <td>33370804.0</td>\n",
              "    </tr>\n",
              "    <tr>\n",
              "      <th>...</th>\n",
              "      <td>...</td>\n",
              "      <td>...</td>\n",
              "      <td>...</td>\n",
              "      <td>...</td>\n",
              "      <td>...</td>\n",
              "      <td>...</td>\n",
              "      <td>...</td>\n",
              "    </tr>\n",
              "    <tr>\n",
              "      <th>2045</th>\n",
              "      <td>Zimbabwe</td>\n",
              "      <td>2015</td>\n",
              "      <td>-3.992000e+08</td>\n",
              "      <td>-0.618156</td>\n",
              "      <td>1.959700e+10</td>\n",
              "      <td>1.996312e+10</td>\n",
              "      <td>13814642.0</td>\n",
              "    </tr>\n",
              "    <tr>\n",
              "      <th>2046</th>\n",
              "      <td>Zimbabwe</td>\n",
              "      <td>2016</td>\n",
              "      <td>-3.430138e+08</td>\n",
              "      <td>-0.619938</td>\n",
              "      <td>2.015340e+10</td>\n",
              "      <td>2.054868e+10</td>\n",
              "      <td>14030338.0</td>\n",
              "    </tr>\n",
              "    <tr>\n",
              "      <th>2047</th>\n",
              "      <td>Zimbabwe</td>\n",
              "      <td>2017</td>\n",
              "      <td>-3.062531e+08</td>\n",
              "      <td>-0.708769</td>\n",
              "      <td>1.727577e+10</td>\n",
              "      <td>1.758489e+10</td>\n",
              "      <td>14236599.0</td>\n",
              "    </tr>\n",
              "    <tr>\n",
              "      <th>2048</th>\n",
              "      <td>Zimbabwe</td>\n",
              "      <td>2018</td>\n",
              "      <td>-7.170786e+08</td>\n",
              "      <td>-0.722774</td>\n",
              "      <td>1.781019e+10</td>\n",
              "      <td>1.811554e+10</td>\n",
              "      <td>14438812.0</td>\n",
              "    </tr>\n",
              "    <tr>\n",
              "      <th>2049</th>\n",
              "      <td>Zimbabwe</td>\n",
              "      <td>2019</td>\n",
              "      <td>-2.470963e+08</td>\n",
              "      <td>-0.959749</td>\n",
              "      <td>1.889662e+10</td>\n",
              "      <td>1.928429e+10</td>\n",
              "      <td>14645473.0</td>\n",
              "    </tr>\n",
              "  </tbody>\n",
              "</table>\n",
              "<p>2050 rows × 7 columns</p>\n",
              "</div>\n",
              "      <button class=\"colab-df-convert\" onclick=\"convertToInteractive('df-7bb767f7-ff1c-468e-b21d-d481c497ea0c')\"\n",
              "              title=\"Convert this dataframe to an interactive table.\"\n",
              "              style=\"display:none;\">\n",
              "        \n",
              "  <svg xmlns=\"http://www.w3.org/2000/svg\" height=\"24px\"viewBox=\"0 0 24 24\"\n",
              "       width=\"24px\">\n",
              "    <path d=\"M0 0h24v24H0V0z\" fill=\"none\"/>\n",
              "    <path d=\"M18.56 5.44l.94 2.06.94-2.06 2.06-.94-2.06-.94-.94-2.06-.94 2.06-2.06.94zm-11 1L8.5 8.5l.94-2.06 2.06-.94-2.06-.94L8.5 2.5l-.94 2.06-2.06.94zm10 10l.94 2.06.94-2.06 2.06-.94-2.06-.94-.94-2.06-.94 2.06-2.06.94z\"/><path d=\"M17.41 7.96l-1.37-1.37c-.4-.4-.92-.59-1.43-.59-.52 0-1.04.2-1.43.59L10.3 9.45l-7.72 7.72c-.78.78-.78 2.05 0 2.83L4 21.41c.39.39.9.59 1.41.59.51 0 1.02-.2 1.41-.59l7.78-7.78 2.81-2.81c.8-.78.8-2.07 0-2.86zM5.41 20L4 18.59l7.72-7.72 1.47 1.35L5.41 20z\"/>\n",
              "  </svg>\n",
              "      </button>\n",
              "      \n",
              "  <style>\n",
              "    .colab-df-container {\n",
              "      display:flex;\n",
              "      flex-wrap:wrap;\n",
              "      gap: 12px;\n",
              "    }\n",
              "\n",
              "    .colab-df-convert {\n",
              "      background-color: #E8F0FE;\n",
              "      border: none;\n",
              "      border-radius: 50%;\n",
              "      cursor: pointer;\n",
              "      display: none;\n",
              "      fill: #1967D2;\n",
              "      height: 32px;\n",
              "      padding: 0 0 0 0;\n",
              "      width: 32px;\n",
              "    }\n",
              "\n",
              "    .colab-df-convert:hover {\n",
              "      background-color: #E2EBFA;\n",
              "      box-shadow: 0px 1px 2px rgba(60, 64, 67, 0.3), 0px 1px 3px 1px rgba(60, 64, 67, 0.15);\n",
              "      fill: #174EA6;\n",
              "    }\n",
              "\n",
              "    [theme=dark] .colab-df-convert {\n",
              "      background-color: #3B4455;\n",
              "      fill: #D2E3FC;\n",
              "    }\n",
              "\n",
              "    [theme=dark] .colab-df-convert:hover {\n",
              "      background-color: #434B5C;\n",
              "      box-shadow: 0px 1px 3px 1px rgba(0, 0, 0, 0.15);\n",
              "      filter: drop-shadow(0px 1px 2px rgba(0, 0, 0, 0.3));\n",
              "      fill: #FFFFFF;\n",
              "    }\n",
              "  </style>\n",
              "\n",
              "      <script>\n",
              "        const buttonEl =\n",
              "          document.querySelector('#df-7bb767f7-ff1c-468e-b21d-d481c497ea0c button.colab-df-convert');\n",
              "        buttonEl.style.display =\n",
              "          google.colab.kernel.accessAllowed ? 'block' : 'none';\n",
              "\n",
              "        async function convertToInteractive(key) {\n",
              "          const element = document.querySelector('#df-7bb767f7-ff1c-468e-b21d-d481c497ea0c');\n",
              "          const dataTable =\n",
              "            await google.colab.kernel.invokeFunction('convertToInteractive',\n",
              "                                                     [key], {});\n",
              "          if (!dataTable) return;\n",
              "\n",
              "          const docLinkHtml = 'Like what you see? Visit the ' +\n",
              "            '<a target=\"_blank\" href=https://colab.research.google.com/notebooks/data_table.ipynb>data table notebook</a>'\n",
              "            + ' to learn more about interactive tables.';\n",
              "          element.innerHTML = '';\n",
              "          dataTable['output_type'] = 'display_data';\n",
              "          await google.colab.output.renderOutput(dataTable, element);\n",
              "          const docLink = document.createElement('div');\n",
              "          docLink.innerHTML = docLinkHtml;\n",
              "          element.appendChild(docLink);\n",
              "        }\n",
              "      </script>\n",
              "    </div>\n",
              "  </div>\n",
              "  "
            ],
            "text/plain": [
              "     country_name  year           fdi  ...           gni           gdp         pop\n",
              "0     Afghanistan  2010 -1.920225e+08  ...  1.588461e+10  1.585668e+10    29185511\n",
              "1     Afghanistan  2011 -5.103628e+07  ...  1.778570e+10  1.780511e+10    30117411\n",
              "2     Afghanistan  2012 -6.568451e+07  ...  1.993866e+10  1.990732e+10  31161378.0\n",
              "3     Afghanistan  2013 -4.777403e+07  ...  2.021669e+10  2.014640e+10  32269592.0\n",
              "4     Afghanistan  2014 -4.299442e+07  ...  2.049475e+10  2.049713e+10  33370804.0\n",
              "...           ...   ...           ...  ...           ...           ...         ...\n",
              "2045     Zimbabwe  2015 -3.992000e+08  ...  1.959700e+10  1.996312e+10  13814642.0\n",
              "2046     Zimbabwe  2016 -3.430138e+08  ...  2.015340e+10  2.054868e+10  14030338.0\n",
              "2047     Zimbabwe  2017 -3.062531e+08  ...  1.727577e+10  1.758489e+10  14236599.0\n",
              "2048     Zimbabwe  2018 -7.170786e+08  ...  1.781019e+10  1.811554e+10  14438812.0\n",
              "2049     Zimbabwe  2019 -2.470963e+08  ...  1.889662e+10  1.928429e+10  14645473.0\n",
              "\n",
              "[2050 rows x 7 columns]"
            ]
          },
          "metadata": {},
          "execution_count": 7
        }
      ]
    },
    {
      "cell_type": "code",
      "metadata": {
        "id": "WDsfbUnmUu30"
      },
      "source": [
        "clean.to_csv(\"clean_df.csv\")\n"
      ],
      "execution_count": 8,
      "outputs": []
    },
    {
      "cell_type": "code",
      "metadata": {
        "id": "h9vmHuWGUw87"
      },
      "source": [
        "nan_removed_df = clean.dropna() \n",
        "nan_removed_df.to_csv(\"nan_removed_df.csv\")"
      ],
      "execution_count": 9,
      "outputs": []
    },
    {
      "cell_type": "code",
      "metadata": {
        "id": "06aPDmobVCcE",
        "colab": {
          "base_uri": "https://localhost:8080/"
        },
        "outputId": "1fae6817-8952-4bfa-9e6c-d90f33886c03"
      },
      "source": [
        "average_df = clean.fillna(clean.mean())"
      ],
      "execution_count": 10,
      "outputs": [
        {
          "output_type": "stream",
          "name": "stderr",
          "text": [
            "/usr/local/lib/python3.7/dist-packages/ipykernel_launcher.py:1: FutureWarning: Dropping of nuisance columns in DataFrame reductions (with 'numeric_only=None') is deprecated; in a future version this will raise TypeError.  Select only valid columns before calling the reduction.\n",
            "  \"\"\"Entry point for launching an IPython kernel.\n"
          ]
        }
      ]
    },
    {
      "cell_type": "code",
      "metadata": {
        "id": "nfryN6bFVQzU"
      },
      "source": [
        "average_df.to_csv(\"average_df.csv\")"
      ],
      "execution_count": 11,
      "outputs": []
    },
    {
      "cell_type": "code",
      "source": [
        ""
      ],
      "metadata": {
        "id": "DLBQDIIRSZJ0"
      },
      "execution_count": null,
      "outputs": []
    }
  ]
}