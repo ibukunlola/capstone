{
  "nbformat": 4,
  "nbformat_minor": 0,
  "metadata": {
    "colab": {
      "name": "synth_cont.ipynb",
      "provenance": [],
      "authorship_tag": "ABX9TyOZadWvlTlaOyjk+DCdzy1p",
      "include_colab_link": true
    },
    "kernelspec": {
      "name": "ir",
      "display_name": "R"
    },
    "language_info": {
      "name": "R"
    }
  },
  "cells": [
    {
      "cell_type": "markdown",
      "metadata": {
        "id": "view-in-github",
        "colab_type": "text"
      },
      "source": [
        "<a href=\"https://colab.research.google.com/github/ibukunlola/capstone/blob/main/model3/synth_cont.ipynb\" target=\"_parent\"><img src=\"https://colab.research.google.com/assets/colab-badge.svg\" alt=\"Open In Colab\"/></a>"
      ]
    },
    {
      "cell_type": "code",
      "execution_count": 4,
      "metadata": {
        "colab": {
          "base_uri": "https://localhost:8080/",
          "height": 151
        },
        "id": "sFTsobaLsnte",
        "outputId": "c5ede9e8-5be5-4da8-9472-2e354ece0ad7"
      },
      "outputs": [
        {
          "output_type": "error",
          "ename": "ERROR",
          "evalue": "ignored",
          "traceback": [
            "Error in parse(text = x, srcfile = src): <text>:6:8: unexpected symbol\n5: library(dplyr)\n6: import pandas\n          ^\nTraceback:\n"
          ]
        }
      ],
      "source": [
        "# load packages\n",
        "install.packages(\"Synth\")\n",
        "library(Synth)\n",
        "library(tibble)\n",
        "library(dplyr)"
      ]
    },
    {
      "cell_type": "markdown",
      "source": [
        "## Model 1\n",
        "This model uses country data where all missing values were replaced with the mean of their corresponding column. The donor pool is made up of 205 countries."
      ],
      "metadata": {
        "id": "UvmQXhwFyKpD"
      }
    },
    {
      "cell_type": "code",
      "source": [
        "# load cleaned data \n",
        "dd <- read.csv(url(\"https://raw.githubusercontent.com/ibukunlola/capstone/main/model3/average_df.csv\"))\n",
        "\n",
        "# create unique unit numbers for each country in the dataframe\n",
        "countries <- unique(dd$country_name)\n",
        "count = 1\n",
        "for (country in countries){\n",
        "  indices <- which(dd$country_name == country)\n",
        "  for (index in indices){\n",
        "    dd$X[index] <- count\n",
        "  }\n",
        "  count = count+1\n",
        "}\n",
        "\n",
        "head(dd, n = 10)"
      ],
      "metadata": {
        "colab": {
          "base_uri": "https://localhost:8080/",
          "height": 411
        },
        "id": "gYmc-fQkswqc",
        "outputId": "03cbe93c-b7d2-418b-b836-281e85fe6271"
      },
      "execution_count": 2,
      "outputs": [
        {
          "output_type": "display_data",
          "data": {
            "text/plain": [
              "   X country_name year fdi        pol_stab  gni         gdp         pop     \n",
              "1  1 Afghanistan  2010 -192022479 -2.579152 15884609987 15856678596 29185511\n",
              "2  1 Afghanistan  2011  -51036284 -2.502060 17785698871 17805113119 30117411\n",
              "3  1 Afghanistan  2012  -65684511 -2.418561 19938663919 19907317066 31161378\n",
              "4  1 Afghanistan  2013  -47774027 -2.519349 20216694880 20146404996 32269592\n",
              "5  1 Afghanistan  2014  -42994416 -2.411068 20494754800 20497126770 33370804\n",
              "6  1 Afghanistan  2015 -166983555 -2.571222 19307190568 19134211764 34413603\n",
              "7  1 Afghanistan  2016  -79585269 -2.671054 18297097175 18116562465 35383028\n",
              "8  1 Afghanistan  2017  -40273161 -2.801084 19000254383 18753469630 36296111\n",
              "9  1 Afghanistan  2018  -80631404 -2.763864 18240838102 18053228579 37171922\n",
              "10 1 Afghanistan  2019    2916493 -2.655531 19098305631 18799450743 38041757"
            ],
            "text/latex": "A data.frame: 10 × 8\n\\begin{tabular}{r|llllllll}\n  & X & country\\_name & year & fdi & pol\\_stab & gni & gdp & pop\\\\\n  & <dbl> & <chr> & <int> & <dbl> & <dbl> & <dbl> & <dbl> & <dbl>\\\\\n\\hline\n\t1 & 1 & Afghanistan & 2010 & -192022479 & -2.579152 & 15884609987 & 15856678596 & 29185511\\\\\n\t2 & 1 & Afghanistan & 2011 &  -51036284 & -2.502060 & 17785698871 & 17805113119 & 30117411\\\\\n\t3 & 1 & Afghanistan & 2012 &  -65684511 & -2.418561 & 19938663919 & 19907317066 & 31161378\\\\\n\t4 & 1 & Afghanistan & 2013 &  -47774027 & -2.519349 & 20216694880 & 20146404996 & 32269592\\\\\n\t5 & 1 & Afghanistan & 2014 &  -42994416 & -2.411068 & 20494754800 & 20497126770 & 33370804\\\\\n\t6 & 1 & Afghanistan & 2015 & -166983555 & -2.571222 & 19307190568 & 19134211764 & 34413603\\\\\n\t7 & 1 & Afghanistan & 2016 &  -79585269 & -2.671054 & 18297097175 & 18116562465 & 35383028\\\\\n\t8 & 1 & Afghanistan & 2017 &  -40273161 & -2.801084 & 19000254383 & 18753469630 & 36296111\\\\\n\t9 & 1 & Afghanistan & 2018 &  -80631404 & -2.763864 & 18240838102 & 18053228579 & 37171922\\\\\n\t10 & 1 & Afghanistan & 2019 &    2916493 & -2.655531 & 19098305631 & 18799450743 & 38041757\\\\\n\\end{tabular}\n",
            "text/markdown": "\nA data.frame: 10 × 8\n\n| <!--/--> | X &lt;dbl&gt; | country_name &lt;chr&gt; | year &lt;int&gt; | fdi &lt;dbl&gt; | pol_stab &lt;dbl&gt; | gni &lt;dbl&gt; | gdp &lt;dbl&gt; | pop &lt;dbl&gt; |\n|---|---|---|---|---|---|---|---|---|\n| 1 | 1 | Afghanistan | 2010 | -192022479 | -2.579152 | 15884609987 | 15856678596 | 29185511 |\n| 2 | 1 | Afghanistan | 2011 |  -51036284 | -2.502060 | 17785698871 | 17805113119 | 30117411 |\n| 3 | 1 | Afghanistan | 2012 |  -65684511 | -2.418561 | 19938663919 | 19907317066 | 31161378 |\n| 4 | 1 | Afghanistan | 2013 |  -47774027 | -2.519349 | 20216694880 | 20146404996 | 32269592 |\n| 5 | 1 | Afghanistan | 2014 |  -42994416 | -2.411068 | 20494754800 | 20497126770 | 33370804 |\n| 6 | 1 | Afghanistan | 2015 | -166983555 | -2.571222 | 19307190568 | 19134211764 | 34413603 |\n| 7 | 1 | Afghanistan | 2016 |  -79585269 | -2.671054 | 18297097175 | 18116562465 | 35383028 |\n| 8 | 1 | Afghanistan | 2017 |  -40273161 | -2.801084 | 19000254383 | 18753469630 | 36296111 |\n| 9 | 1 | Afghanistan | 2018 |  -80631404 | -2.763864 | 18240838102 | 18053228579 | 37171922 |\n| 10 | 1 | Afghanistan | 2019 |    2916493 | -2.655531 | 19098305631 | 18799450743 | 38041757 |\n\n",
            "text/html": [
              "<table class=\"dataframe\">\n",
              "<caption>A data.frame: 10 × 8</caption>\n",
              "<thead>\n",
              "\t<tr><th></th><th scope=col>X</th><th scope=col>country_name</th><th scope=col>year</th><th scope=col>fdi</th><th scope=col>pol_stab</th><th scope=col>gni</th><th scope=col>gdp</th><th scope=col>pop</th></tr>\n",
              "\t<tr><th></th><th scope=col>&lt;dbl&gt;</th><th scope=col>&lt;chr&gt;</th><th scope=col>&lt;int&gt;</th><th scope=col>&lt;dbl&gt;</th><th scope=col>&lt;dbl&gt;</th><th scope=col>&lt;dbl&gt;</th><th scope=col>&lt;dbl&gt;</th><th scope=col>&lt;dbl&gt;</th></tr>\n",
              "</thead>\n",
              "<tbody>\n",
              "\t<tr><th scope=row>1</th><td>1</td><td>Afghanistan</td><td>2010</td><td>-192022479</td><td>-2.579152</td><td>15884609987</td><td>15856678596</td><td>29185511</td></tr>\n",
              "\t<tr><th scope=row>2</th><td>1</td><td>Afghanistan</td><td>2011</td><td> -51036284</td><td>-2.502060</td><td>17785698871</td><td>17805113119</td><td>30117411</td></tr>\n",
              "\t<tr><th scope=row>3</th><td>1</td><td>Afghanistan</td><td>2012</td><td> -65684511</td><td>-2.418561</td><td>19938663919</td><td>19907317066</td><td>31161378</td></tr>\n",
              "\t<tr><th scope=row>4</th><td>1</td><td>Afghanistan</td><td>2013</td><td> -47774027</td><td>-2.519349</td><td>20216694880</td><td>20146404996</td><td>32269592</td></tr>\n",
              "\t<tr><th scope=row>5</th><td>1</td><td>Afghanistan</td><td>2014</td><td> -42994416</td><td>-2.411068</td><td>20494754800</td><td>20497126770</td><td>33370804</td></tr>\n",
              "\t<tr><th scope=row>6</th><td>1</td><td>Afghanistan</td><td>2015</td><td>-166983555</td><td>-2.571222</td><td>19307190568</td><td>19134211764</td><td>34413603</td></tr>\n",
              "\t<tr><th scope=row>7</th><td>1</td><td>Afghanistan</td><td>2016</td><td> -79585269</td><td>-2.671054</td><td>18297097175</td><td>18116562465</td><td>35383028</td></tr>\n",
              "\t<tr><th scope=row>8</th><td>1</td><td>Afghanistan</td><td>2017</td><td> -40273161</td><td>-2.801084</td><td>19000254383</td><td>18753469630</td><td>36296111</td></tr>\n",
              "\t<tr><th scope=row>9</th><td>1</td><td>Afghanistan</td><td>2018</td><td> -80631404</td><td>-2.763864</td><td>18240838102</td><td>18053228579</td><td>37171922</td></tr>\n",
              "\t<tr><th scope=row>10</th><td>1</td><td>Afghanistan</td><td>2019</td><td>   2916493</td><td>-2.655531</td><td>19098305631</td><td>18799450743</td><td>38041757</td></tr>\n",
              "</tbody>\n",
              "</table>\n"
            ]
          },
          "metadata": {}
        }
      ]
    },
    {
      "cell_type": "code",
      "source": [
        "# generate new dataframe with per-capita data on the predictors and outcome variable\n",
        "fdi_pc = dd$fdi/dd$pop\n",
        "gni_pc = dd$gni/dd$pop\n",
        "gdp_pc = dd$gdp/dd$pop\n",
        "\n",
        "dd_pc = data.frame(dd$X, dd$country_name, dd$year, fdi_pc, dd$pol_stab,\n",
        "                   gni_pc, gdp_pc)\n",
        "\n",
        "# change column names\n",
        "colnames(dd_pc) <- c(\"X\", \"country_name\", \"year\", \"fdi_pc\", \"pol_stab\",\n",
        "                  \"gni_pc\", \"gdp_pc\")\n",
        "\n",
        "write.csv(dd_pc,\"average_pc_df.csv\", row.names = FALSE)\n",
        "dd_pc"
      ],
      "metadata": {
        "colab": {
          "base_uri": "https://localhost:8080/",
          "height": 1000
        },
        "id": "-3TboJMpxDyu",
        "outputId": "1466b284-cd6c-4d6c-9c69-bc385ff6e131"
      },
      "execution_count": 5,
      "outputs": [
        {
          "output_type": "display_data",
          "data": {
            "text/plain": [
              "     X   country_name year fdi_pc        pol_stab   gni_pc     gdp_pc    \n",
              "1    1   Afghanistan  2010   -6.57937699 -2.5791520  544.2636   543.3065 \n",
              "2    1   Afghanistan  2011   -1.69457739 -2.5020600  590.5454   591.1900 \n",
              "3    1   Afghanistan  2012   -2.10788211 -2.4185610  639.8518   638.8459 \n",
              "4    1   Afghanistan  2013   -1.48046579 -2.5193490  626.4937   624.3155 \n",
              "5    1   Afghanistan  2014   -1.28838419 -2.4110680  614.1523   614.2233 \n",
              "6    1   Afghanistan  2015   -4.85225435 -2.5712220  561.0337   556.0072 \n",
              "7    1   Afghanistan  2016   -2.24924980 -2.6710540  517.1151   512.0128 \n",
              "8    1   Afghanistan  2017   -1.10957235 -2.8010840  523.4791   516.6799 \n",
              "9    1   Afghanistan  2018   -2.16914810 -2.7638640  490.7155   485.6684 \n",
              "10   1   Afghanistan  2019    0.07666557 -2.6555310  502.0353   494.1793 \n",
              "11   2   Albania      2010 -358.22319100 -0.1914829 4053.4434  4094.3484 \n",
              "12   2   Albania      2011 -291.41475241 -0.2823794 4438.2921  4437.1426 \n",
              "13   2   Albania      2012 -287.82331238 -0.1436316 4215.9913  4247.6300 \n",
              "14   2   Albania      2013 -423.36283008  0.0919298 4489.1628  4413.0620 \n",
              "15   2   Albania      2014 -371.84337790  0.4859862 4620.6089  4578.6332 \n",
              "16   2   Albania      2015 -315.98423231  0.3461291 3999.6516  3952.8025 \n",
              "17   2   Albania      2016 -360.67195764  0.3446447 4191.0326  4124.0554 \n",
              "18   2   Albania      2017 -392.87946381  0.3784748 4542.0832  4531.0194 \n",
              "19   2   Albania      2018 -421.75918506  0.3705156 5281.2308  5287.6637 \n",
              "20   2   Albania      2019 -406.79000080  0.1111686 5325.0330  5395.6595 \n",
              "21   3   Algeria      2010  -57.84556706 -1.2593680 4468.3994  4480.7863 \n",
              "22   3   Algeria      2011  -55.57117967 -1.3605610 5399.9372  5455.6794 \n",
              "23   3   Algeria      2012  -41.24354753 -1.3250430 5521.4000  5592.2201 \n",
              "24   3   Algeria      2013  -51.48474303 -1.2023710 5390.6551  5499.5873 \n",
              "25   3   Algeria      2014  -39.07073552 -1.1905350 5366.2540  5493.0567 \n",
              "26   3   Algeria      2015   16.08223152 -1.0901600 4069.3509  4177.8895 \n",
              "27   3   Algeria      2016  -39.25199008 -1.0975260 3907.9787  3946.4524 \n",
              "28   3   Algeria      2017  -29.93077068 -0.9157991 4048.3768  4109.6982 \n",
              "29   3   Algeria      2018  -14.67979653 -0.8361196 4037.7331  4142.0186 \n",
              "30   3   Algeria      2019  -31.35785940 -1.0443430 3892.1312  3989.6683 \n",
              "⋮    ⋮   ⋮            ⋮    ⋮             ⋮          ⋮          ⋮         \n",
              "2021 203 Yemen, Rep.  2010   -8.1469655  -2.4237160  1256.2276  1334.7849\n",
              "2022 203 Yemen, Rep.  2011   21.7511733  -2.4267960  1276.4416  1374.6214\n",
              "2023 203 Yemen, Rep.  2012    0.5818284  -2.4306630  1382.3992  1446.5365\n",
              "2024 203 Yemen, Rep.  2013    5.3115799  -2.3748280  1534.9530  1607.1522\n",
              "2025 203 Yemen, Rep.  2014    9.0268467  -2.6655750  1572.5058  1674.0026\n",
              "2026 203 Yemen, Rep.  2015    0.5828696  -2.6802220  1551.0713  1601.8301\n",
              "2027 203 Yemen, Rep.  2016    0.0000000  -2.7948770  1150.3362  1152.7210\n",
              "2028 203 Yemen, Rep.  2017  -52.8547454  -2.9424430   962.8222   964.2648\n",
              "2029 203 Yemen, Rep.  2018  -51.6235030  -3.0059060   757.5626   758.1452\n",
              "2030 203 Yemen, Rep.  2019  -50.4494130  -2.7708300 13837.0503 13351.9832\n",
              "2031 204 Zambia       2010  -46.5897878   0.5153514  1389.2826  1489.4591\n",
              "2032 204 Zambia       2011  -79.1474185   0.5097738  1590.4030  1672.9075\n",
              "2033 204 Zambia       2012 -168.2248256   0.6609625  1733.2062  1763.0694\n",
              "2034 204 Zambia       2013 -113.2433072   0.4359333  1801.3802  1878.3468\n",
              "2035 204 Zambia       2014 -161.2878822   0.1562120  1726.5859  1762.4278\n",
              "2036 204 Zambia       2015 -108.5840318   0.1516949  1312.3448  1338.2909\n",
              "2037 204 Zambia       2016  -29.7060948   0.1428080  1241.2606  1280.8065\n",
              "2038 204 Zambia       2017  -69.9890299   0.1462433  1467.1510  1535.1966\n",
              "2039 204 Zambia       2018  -20.9267928   0.0856044  1492.9237  1516.3684\n",
              "2040 204 Zambia       2019    8.2999465  -0.1138469  1282.3491  1305.0010\n",
              "2041 205 Zimbabwe     2010   -9.6542206  -1.1040140   936.5072   948.3315\n",
              "2042 205 Zimbabwe     2011  -26.7016733  -0.9453285  1074.5508  1093.6534\n",
              "2043 205 Zimbabwe     2012  -26.6752593  -0.7786620  1282.8441  1304.9680\n",
              "2044 205 Zimbabwe     2013  -27.9430290  -0.6659498  1408.2507  1429.9985\n",
              "2045 205 Zimbabwe     2014  -34.7987114  -0.7135702  1409.8138  1434.8963\n",
              "2046 205 Zimbabwe     2015  -28.8968762  -0.6181563  1418.5675  1445.0697\n",
              "2047 205 Zimbabwe     2016  -24.4480078  -0.6199379  1436.4156  1464.5890\n",
              "2048 205 Zimbabwe     2017  -21.5116730  -0.7087693  1213.4756  1235.1890\n",
              "2049 205 Zimbabwe     2018  -49.6632678  -0.7227737  1233.4939  1254.6423\n",
              "2050 205 Zimbabwe     2019  -16.8718528  -0.9597493  1290.2705  1316.7407"
            ],
            "text/latex": "A data.frame: 2050 × 7\n\\begin{tabular}{lllllll}\n X & country\\_name & year & fdi\\_pc & pol\\_stab & gni\\_pc & gdp\\_pc\\\\\n <dbl> & <chr> & <int> & <dbl> & <dbl> & <dbl> & <dbl>\\\\\n\\hline\n\t 1 & Afghanistan & 2010 &   -6.57937699 & -2.5791520 &  544.2636 &  543.3065\\\\\n\t 1 & Afghanistan & 2011 &   -1.69457739 & -2.5020600 &  590.5454 &  591.1900\\\\\n\t 1 & Afghanistan & 2012 &   -2.10788211 & -2.4185610 &  639.8518 &  638.8459\\\\\n\t 1 & Afghanistan & 2013 &   -1.48046579 & -2.5193490 &  626.4937 &  624.3155\\\\\n\t 1 & Afghanistan & 2014 &   -1.28838419 & -2.4110680 &  614.1523 &  614.2233\\\\\n\t 1 & Afghanistan & 2015 &   -4.85225435 & -2.5712220 &  561.0337 &  556.0072\\\\\n\t 1 & Afghanistan & 2016 &   -2.24924980 & -2.6710540 &  517.1151 &  512.0128\\\\\n\t 1 & Afghanistan & 2017 &   -1.10957235 & -2.8010840 &  523.4791 &  516.6799\\\\\n\t 1 & Afghanistan & 2018 &   -2.16914810 & -2.7638640 &  490.7155 &  485.6684\\\\\n\t 1 & Afghanistan & 2019 &    0.07666557 & -2.6555310 &  502.0353 &  494.1793\\\\\n\t 2 & Albania     & 2010 & -358.22319100 & -0.1914829 & 4053.4434 & 4094.3484\\\\\n\t 2 & Albania     & 2011 & -291.41475241 & -0.2823794 & 4438.2921 & 4437.1426\\\\\n\t 2 & Albania     & 2012 & -287.82331238 & -0.1436316 & 4215.9913 & 4247.6300\\\\\n\t 2 & Albania     & 2013 & -423.36283008 &  0.0919298 & 4489.1628 & 4413.0620\\\\\n\t 2 & Albania     & 2014 & -371.84337790 &  0.4859862 & 4620.6089 & 4578.6332\\\\\n\t 2 & Albania     & 2015 & -315.98423231 &  0.3461291 & 3999.6516 & 3952.8025\\\\\n\t 2 & Albania     & 2016 & -360.67195764 &  0.3446447 & 4191.0326 & 4124.0554\\\\\n\t 2 & Albania     & 2017 & -392.87946381 &  0.3784748 & 4542.0832 & 4531.0194\\\\\n\t 2 & Albania     & 2018 & -421.75918506 &  0.3705156 & 5281.2308 & 5287.6637\\\\\n\t 2 & Albania     & 2019 & -406.79000080 &  0.1111686 & 5325.0330 & 5395.6595\\\\\n\t 3 & Algeria     & 2010 &  -57.84556706 & -1.2593680 & 4468.3994 & 4480.7863\\\\\n\t 3 & Algeria     & 2011 &  -55.57117967 & -1.3605610 & 5399.9372 & 5455.6794\\\\\n\t 3 & Algeria     & 2012 &  -41.24354753 & -1.3250430 & 5521.4000 & 5592.2201\\\\\n\t 3 & Algeria     & 2013 &  -51.48474303 & -1.2023710 & 5390.6551 & 5499.5873\\\\\n\t 3 & Algeria     & 2014 &  -39.07073552 & -1.1905350 & 5366.2540 & 5493.0567\\\\\n\t 3 & Algeria     & 2015 &   16.08223152 & -1.0901600 & 4069.3509 & 4177.8895\\\\\n\t 3 & Algeria     & 2016 &  -39.25199008 & -1.0975260 & 3907.9787 & 3946.4524\\\\\n\t 3 & Algeria     & 2017 &  -29.93077068 & -0.9157991 & 4048.3768 & 4109.6982\\\\\n\t 3 & Algeria     & 2018 &  -14.67979653 & -0.8361196 & 4037.7331 & 4142.0186\\\\\n\t 3 & Algeria     & 2019 &  -31.35785940 & -1.0443430 & 3892.1312 & 3989.6683\\\\\n\t ⋮ & ⋮ & ⋮ & ⋮ & ⋮ & ⋮ & ⋮\\\\\n\t 203 & Yemen, Rep. & 2010 &   -8.1469655 & -2.4237160 &  1256.2276 &  1334.7849\\\\\n\t 203 & Yemen, Rep. & 2011 &   21.7511733 & -2.4267960 &  1276.4416 &  1374.6214\\\\\n\t 203 & Yemen, Rep. & 2012 &    0.5818284 & -2.4306630 &  1382.3992 &  1446.5365\\\\\n\t 203 & Yemen, Rep. & 2013 &    5.3115799 & -2.3748280 &  1534.9530 &  1607.1522\\\\\n\t 203 & Yemen, Rep. & 2014 &    9.0268467 & -2.6655750 &  1572.5058 &  1674.0026\\\\\n\t 203 & Yemen, Rep. & 2015 &    0.5828696 & -2.6802220 &  1551.0713 &  1601.8301\\\\\n\t 203 & Yemen, Rep. & 2016 &    0.0000000 & -2.7948770 &  1150.3362 &  1152.7210\\\\\n\t 203 & Yemen, Rep. & 2017 &  -52.8547454 & -2.9424430 &   962.8222 &   964.2648\\\\\n\t 203 & Yemen, Rep. & 2018 &  -51.6235030 & -3.0059060 &   757.5626 &   758.1452\\\\\n\t 203 & Yemen, Rep. & 2019 &  -50.4494130 & -2.7708300 & 13837.0503 & 13351.9832\\\\\n\t 204 & Zambia      & 2010 &  -46.5897878 &  0.5153514 &  1389.2826 &  1489.4591\\\\\n\t 204 & Zambia      & 2011 &  -79.1474185 &  0.5097738 &  1590.4030 &  1672.9075\\\\\n\t 204 & Zambia      & 2012 & -168.2248256 &  0.6609625 &  1733.2062 &  1763.0694\\\\\n\t 204 & Zambia      & 2013 & -113.2433072 &  0.4359333 &  1801.3802 &  1878.3468\\\\\n\t 204 & Zambia      & 2014 & -161.2878822 &  0.1562120 &  1726.5859 &  1762.4278\\\\\n\t 204 & Zambia      & 2015 & -108.5840318 &  0.1516949 &  1312.3448 &  1338.2909\\\\\n\t 204 & Zambia      & 2016 &  -29.7060948 &  0.1428080 &  1241.2606 &  1280.8065\\\\\n\t 204 & Zambia      & 2017 &  -69.9890299 &  0.1462433 &  1467.1510 &  1535.1966\\\\\n\t 204 & Zambia      & 2018 &  -20.9267928 &  0.0856044 &  1492.9237 &  1516.3684\\\\\n\t 204 & Zambia      & 2019 &    8.2999465 & -0.1138469 &  1282.3491 &  1305.0010\\\\\n\t 205 & Zimbabwe    & 2010 &   -9.6542206 & -1.1040140 &   936.5072 &   948.3315\\\\\n\t 205 & Zimbabwe    & 2011 &  -26.7016733 & -0.9453285 &  1074.5508 &  1093.6534\\\\\n\t 205 & Zimbabwe    & 2012 &  -26.6752593 & -0.7786620 &  1282.8441 &  1304.9680\\\\\n\t 205 & Zimbabwe    & 2013 &  -27.9430290 & -0.6659498 &  1408.2507 &  1429.9985\\\\\n\t 205 & Zimbabwe    & 2014 &  -34.7987114 & -0.7135702 &  1409.8138 &  1434.8963\\\\\n\t 205 & Zimbabwe    & 2015 &  -28.8968762 & -0.6181563 &  1418.5675 &  1445.0697\\\\\n\t 205 & Zimbabwe    & 2016 &  -24.4480078 & -0.6199379 &  1436.4156 &  1464.5890\\\\\n\t 205 & Zimbabwe    & 2017 &  -21.5116730 & -0.7087693 &  1213.4756 &  1235.1890\\\\\n\t 205 & Zimbabwe    & 2018 &  -49.6632678 & -0.7227737 &  1233.4939 &  1254.6423\\\\\n\t 205 & Zimbabwe    & 2019 &  -16.8718528 & -0.9597493 &  1290.2705 &  1316.7407\\\\\n\\end{tabular}\n",
            "text/markdown": "\nA data.frame: 2050 × 7\n\n| X &lt;dbl&gt; | country_name &lt;chr&gt; | year &lt;int&gt; | fdi_pc &lt;dbl&gt; | pol_stab &lt;dbl&gt; | gni_pc &lt;dbl&gt; | gdp_pc &lt;dbl&gt; |\n|---|---|---|---|---|---|---|\n| 1 | Afghanistan | 2010 |   -6.57937699 | -2.5791520 |  544.2636 |  543.3065 |\n| 1 | Afghanistan | 2011 |   -1.69457739 | -2.5020600 |  590.5454 |  591.1900 |\n| 1 | Afghanistan | 2012 |   -2.10788211 | -2.4185610 |  639.8518 |  638.8459 |\n| 1 | Afghanistan | 2013 |   -1.48046579 | -2.5193490 |  626.4937 |  624.3155 |\n| 1 | Afghanistan | 2014 |   -1.28838419 | -2.4110680 |  614.1523 |  614.2233 |\n| 1 | Afghanistan | 2015 |   -4.85225435 | -2.5712220 |  561.0337 |  556.0072 |\n| 1 | Afghanistan | 2016 |   -2.24924980 | -2.6710540 |  517.1151 |  512.0128 |\n| 1 | Afghanistan | 2017 |   -1.10957235 | -2.8010840 |  523.4791 |  516.6799 |\n| 1 | Afghanistan | 2018 |   -2.16914810 | -2.7638640 |  490.7155 |  485.6684 |\n| 1 | Afghanistan | 2019 |    0.07666557 | -2.6555310 |  502.0353 |  494.1793 |\n| 2 | Albania     | 2010 | -358.22319100 | -0.1914829 | 4053.4434 | 4094.3484 |\n| 2 | Albania     | 2011 | -291.41475241 | -0.2823794 | 4438.2921 | 4437.1426 |\n| 2 | Albania     | 2012 | -287.82331238 | -0.1436316 | 4215.9913 | 4247.6300 |\n| 2 | Albania     | 2013 | -423.36283008 |  0.0919298 | 4489.1628 | 4413.0620 |\n| 2 | Albania     | 2014 | -371.84337790 |  0.4859862 | 4620.6089 | 4578.6332 |\n| 2 | Albania     | 2015 | -315.98423231 |  0.3461291 | 3999.6516 | 3952.8025 |\n| 2 | Albania     | 2016 | -360.67195764 |  0.3446447 | 4191.0326 | 4124.0554 |\n| 2 | Albania     | 2017 | -392.87946381 |  0.3784748 | 4542.0832 | 4531.0194 |\n| 2 | Albania     | 2018 | -421.75918506 |  0.3705156 | 5281.2308 | 5287.6637 |\n| 2 | Albania     | 2019 | -406.79000080 |  0.1111686 | 5325.0330 | 5395.6595 |\n| 3 | Algeria     | 2010 |  -57.84556706 | -1.2593680 | 4468.3994 | 4480.7863 |\n| 3 | Algeria     | 2011 |  -55.57117967 | -1.3605610 | 5399.9372 | 5455.6794 |\n| 3 | Algeria     | 2012 |  -41.24354753 | -1.3250430 | 5521.4000 | 5592.2201 |\n| 3 | Algeria     | 2013 |  -51.48474303 | -1.2023710 | 5390.6551 | 5499.5873 |\n| 3 | Algeria     | 2014 |  -39.07073552 | -1.1905350 | 5366.2540 | 5493.0567 |\n| 3 | Algeria     | 2015 |   16.08223152 | -1.0901600 | 4069.3509 | 4177.8895 |\n| 3 | Algeria     | 2016 |  -39.25199008 | -1.0975260 | 3907.9787 | 3946.4524 |\n| 3 | Algeria     | 2017 |  -29.93077068 | -0.9157991 | 4048.3768 | 4109.6982 |\n| 3 | Algeria     | 2018 |  -14.67979653 | -0.8361196 | 4037.7331 | 4142.0186 |\n| 3 | Algeria     | 2019 |  -31.35785940 | -1.0443430 | 3892.1312 | 3989.6683 |\n| ⋮ | ⋮ | ⋮ | ⋮ | ⋮ | ⋮ | ⋮ |\n| 203 | Yemen, Rep. | 2010 |   -8.1469655 | -2.4237160 |  1256.2276 |  1334.7849 |\n| 203 | Yemen, Rep. | 2011 |   21.7511733 | -2.4267960 |  1276.4416 |  1374.6214 |\n| 203 | Yemen, Rep. | 2012 |    0.5818284 | -2.4306630 |  1382.3992 |  1446.5365 |\n| 203 | Yemen, Rep. | 2013 |    5.3115799 | -2.3748280 |  1534.9530 |  1607.1522 |\n| 203 | Yemen, Rep. | 2014 |    9.0268467 | -2.6655750 |  1572.5058 |  1674.0026 |\n| 203 | Yemen, Rep. | 2015 |    0.5828696 | -2.6802220 |  1551.0713 |  1601.8301 |\n| 203 | Yemen, Rep. | 2016 |    0.0000000 | -2.7948770 |  1150.3362 |  1152.7210 |\n| 203 | Yemen, Rep. | 2017 |  -52.8547454 | -2.9424430 |   962.8222 |   964.2648 |\n| 203 | Yemen, Rep. | 2018 |  -51.6235030 | -3.0059060 |   757.5626 |   758.1452 |\n| 203 | Yemen, Rep. | 2019 |  -50.4494130 | -2.7708300 | 13837.0503 | 13351.9832 |\n| 204 | Zambia      | 2010 |  -46.5897878 |  0.5153514 |  1389.2826 |  1489.4591 |\n| 204 | Zambia      | 2011 |  -79.1474185 |  0.5097738 |  1590.4030 |  1672.9075 |\n| 204 | Zambia      | 2012 | -168.2248256 |  0.6609625 |  1733.2062 |  1763.0694 |\n| 204 | Zambia      | 2013 | -113.2433072 |  0.4359333 |  1801.3802 |  1878.3468 |\n| 204 | Zambia      | 2014 | -161.2878822 |  0.1562120 |  1726.5859 |  1762.4278 |\n| 204 | Zambia      | 2015 | -108.5840318 |  0.1516949 |  1312.3448 |  1338.2909 |\n| 204 | Zambia      | 2016 |  -29.7060948 |  0.1428080 |  1241.2606 |  1280.8065 |\n| 204 | Zambia      | 2017 |  -69.9890299 |  0.1462433 |  1467.1510 |  1535.1966 |\n| 204 | Zambia      | 2018 |  -20.9267928 |  0.0856044 |  1492.9237 |  1516.3684 |\n| 204 | Zambia      | 2019 |    8.2999465 | -0.1138469 |  1282.3491 |  1305.0010 |\n| 205 | Zimbabwe    | 2010 |   -9.6542206 | -1.1040140 |   936.5072 |   948.3315 |\n| 205 | Zimbabwe    | 2011 |  -26.7016733 | -0.9453285 |  1074.5508 |  1093.6534 |\n| 205 | Zimbabwe    | 2012 |  -26.6752593 | -0.7786620 |  1282.8441 |  1304.9680 |\n| 205 | Zimbabwe    | 2013 |  -27.9430290 | -0.6659498 |  1408.2507 |  1429.9985 |\n| 205 | Zimbabwe    | 2014 |  -34.7987114 | -0.7135702 |  1409.8138 |  1434.8963 |\n| 205 | Zimbabwe    | 2015 |  -28.8968762 | -0.6181563 |  1418.5675 |  1445.0697 |\n| 205 | Zimbabwe    | 2016 |  -24.4480078 | -0.6199379 |  1436.4156 |  1464.5890 |\n| 205 | Zimbabwe    | 2017 |  -21.5116730 | -0.7087693 |  1213.4756 |  1235.1890 |\n| 205 | Zimbabwe    | 2018 |  -49.6632678 | -0.7227737 |  1233.4939 |  1254.6423 |\n| 205 | Zimbabwe    | 2019 |  -16.8718528 | -0.9597493 |  1290.2705 |  1316.7407 |\n\n",
            "text/html": [
              "<table class=\"dataframe\">\n",
              "<caption>A data.frame: 2050 × 7</caption>\n",
              "<thead>\n",
              "\t<tr><th scope=col>X</th><th scope=col>country_name</th><th scope=col>year</th><th scope=col>fdi_pc</th><th scope=col>pol_stab</th><th scope=col>gni_pc</th><th scope=col>gdp_pc</th></tr>\n",
              "\t<tr><th scope=col>&lt;dbl&gt;</th><th scope=col>&lt;chr&gt;</th><th scope=col>&lt;int&gt;</th><th scope=col>&lt;dbl&gt;</th><th scope=col>&lt;dbl&gt;</th><th scope=col>&lt;dbl&gt;</th><th scope=col>&lt;dbl&gt;</th></tr>\n",
              "</thead>\n",
              "<tbody>\n",
              "\t<tr><td>1</td><td>Afghanistan</td><td>2010</td><td>  -6.57937699</td><td>-2.5791520</td><td> 544.2636</td><td> 543.3065</td></tr>\n",
              "\t<tr><td>1</td><td>Afghanistan</td><td>2011</td><td>  -1.69457739</td><td>-2.5020600</td><td> 590.5454</td><td> 591.1900</td></tr>\n",
              "\t<tr><td>1</td><td>Afghanistan</td><td>2012</td><td>  -2.10788211</td><td>-2.4185610</td><td> 639.8518</td><td> 638.8459</td></tr>\n",
              "\t<tr><td>1</td><td>Afghanistan</td><td>2013</td><td>  -1.48046579</td><td>-2.5193490</td><td> 626.4937</td><td> 624.3155</td></tr>\n",
              "\t<tr><td>1</td><td>Afghanistan</td><td>2014</td><td>  -1.28838419</td><td>-2.4110680</td><td> 614.1523</td><td> 614.2233</td></tr>\n",
              "\t<tr><td>1</td><td>Afghanistan</td><td>2015</td><td>  -4.85225435</td><td>-2.5712220</td><td> 561.0337</td><td> 556.0072</td></tr>\n",
              "\t<tr><td>1</td><td>Afghanistan</td><td>2016</td><td>  -2.24924980</td><td>-2.6710540</td><td> 517.1151</td><td> 512.0128</td></tr>\n",
              "\t<tr><td>1</td><td>Afghanistan</td><td>2017</td><td>  -1.10957235</td><td>-2.8010840</td><td> 523.4791</td><td> 516.6799</td></tr>\n",
              "\t<tr><td>1</td><td>Afghanistan</td><td>2018</td><td>  -2.16914810</td><td>-2.7638640</td><td> 490.7155</td><td> 485.6684</td></tr>\n",
              "\t<tr><td>1</td><td>Afghanistan</td><td>2019</td><td>   0.07666557</td><td>-2.6555310</td><td> 502.0353</td><td> 494.1793</td></tr>\n",
              "\t<tr><td>2</td><td>Albania    </td><td>2010</td><td>-358.22319100</td><td>-0.1914829</td><td>4053.4434</td><td>4094.3484</td></tr>\n",
              "\t<tr><td>2</td><td>Albania    </td><td>2011</td><td>-291.41475241</td><td>-0.2823794</td><td>4438.2921</td><td>4437.1426</td></tr>\n",
              "\t<tr><td>2</td><td>Albania    </td><td>2012</td><td>-287.82331238</td><td>-0.1436316</td><td>4215.9913</td><td>4247.6300</td></tr>\n",
              "\t<tr><td>2</td><td>Albania    </td><td>2013</td><td>-423.36283008</td><td> 0.0919298</td><td>4489.1628</td><td>4413.0620</td></tr>\n",
              "\t<tr><td>2</td><td>Albania    </td><td>2014</td><td>-371.84337790</td><td> 0.4859862</td><td>4620.6089</td><td>4578.6332</td></tr>\n",
              "\t<tr><td>2</td><td>Albania    </td><td>2015</td><td>-315.98423231</td><td> 0.3461291</td><td>3999.6516</td><td>3952.8025</td></tr>\n",
              "\t<tr><td>2</td><td>Albania    </td><td>2016</td><td>-360.67195764</td><td> 0.3446447</td><td>4191.0326</td><td>4124.0554</td></tr>\n",
              "\t<tr><td>2</td><td>Albania    </td><td>2017</td><td>-392.87946381</td><td> 0.3784748</td><td>4542.0832</td><td>4531.0194</td></tr>\n",
              "\t<tr><td>2</td><td>Albania    </td><td>2018</td><td>-421.75918506</td><td> 0.3705156</td><td>5281.2308</td><td>5287.6637</td></tr>\n",
              "\t<tr><td>2</td><td>Albania    </td><td>2019</td><td>-406.79000080</td><td> 0.1111686</td><td>5325.0330</td><td>5395.6595</td></tr>\n",
              "\t<tr><td>3</td><td>Algeria    </td><td>2010</td><td> -57.84556706</td><td>-1.2593680</td><td>4468.3994</td><td>4480.7863</td></tr>\n",
              "\t<tr><td>3</td><td>Algeria    </td><td>2011</td><td> -55.57117967</td><td>-1.3605610</td><td>5399.9372</td><td>5455.6794</td></tr>\n",
              "\t<tr><td>3</td><td>Algeria    </td><td>2012</td><td> -41.24354753</td><td>-1.3250430</td><td>5521.4000</td><td>5592.2201</td></tr>\n",
              "\t<tr><td>3</td><td>Algeria    </td><td>2013</td><td> -51.48474303</td><td>-1.2023710</td><td>5390.6551</td><td>5499.5873</td></tr>\n",
              "\t<tr><td>3</td><td>Algeria    </td><td>2014</td><td> -39.07073552</td><td>-1.1905350</td><td>5366.2540</td><td>5493.0567</td></tr>\n",
              "\t<tr><td>3</td><td>Algeria    </td><td>2015</td><td>  16.08223152</td><td>-1.0901600</td><td>4069.3509</td><td>4177.8895</td></tr>\n",
              "\t<tr><td>3</td><td>Algeria    </td><td>2016</td><td> -39.25199008</td><td>-1.0975260</td><td>3907.9787</td><td>3946.4524</td></tr>\n",
              "\t<tr><td>3</td><td>Algeria    </td><td>2017</td><td> -29.93077068</td><td>-0.9157991</td><td>4048.3768</td><td>4109.6982</td></tr>\n",
              "\t<tr><td>3</td><td>Algeria    </td><td>2018</td><td> -14.67979653</td><td>-0.8361196</td><td>4037.7331</td><td>4142.0186</td></tr>\n",
              "\t<tr><td>3</td><td>Algeria    </td><td>2019</td><td> -31.35785940</td><td>-1.0443430</td><td>3892.1312</td><td>3989.6683</td></tr>\n",
              "\t<tr><td>⋮</td><td>⋮</td><td>⋮</td><td>⋮</td><td>⋮</td><td>⋮</td><td>⋮</td></tr>\n",
              "\t<tr><td>203</td><td>Yemen, Rep.</td><td>2010</td><td>  -8.1469655</td><td>-2.4237160</td><td> 1256.2276</td><td> 1334.7849</td></tr>\n",
              "\t<tr><td>203</td><td>Yemen, Rep.</td><td>2011</td><td>  21.7511733</td><td>-2.4267960</td><td> 1276.4416</td><td> 1374.6214</td></tr>\n",
              "\t<tr><td>203</td><td>Yemen, Rep.</td><td>2012</td><td>   0.5818284</td><td>-2.4306630</td><td> 1382.3992</td><td> 1446.5365</td></tr>\n",
              "\t<tr><td>203</td><td>Yemen, Rep.</td><td>2013</td><td>   5.3115799</td><td>-2.3748280</td><td> 1534.9530</td><td> 1607.1522</td></tr>\n",
              "\t<tr><td>203</td><td>Yemen, Rep.</td><td>2014</td><td>   9.0268467</td><td>-2.6655750</td><td> 1572.5058</td><td> 1674.0026</td></tr>\n",
              "\t<tr><td>203</td><td>Yemen, Rep.</td><td>2015</td><td>   0.5828696</td><td>-2.6802220</td><td> 1551.0713</td><td> 1601.8301</td></tr>\n",
              "\t<tr><td>203</td><td>Yemen, Rep.</td><td>2016</td><td>   0.0000000</td><td>-2.7948770</td><td> 1150.3362</td><td> 1152.7210</td></tr>\n",
              "\t<tr><td>203</td><td>Yemen, Rep.</td><td>2017</td><td> -52.8547454</td><td>-2.9424430</td><td>  962.8222</td><td>  964.2648</td></tr>\n",
              "\t<tr><td>203</td><td>Yemen, Rep.</td><td>2018</td><td> -51.6235030</td><td>-3.0059060</td><td>  757.5626</td><td>  758.1452</td></tr>\n",
              "\t<tr><td>203</td><td>Yemen, Rep.</td><td>2019</td><td> -50.4494130</td><td>-2.7708300</td><td>13837.0503</td><td>13351.9832</td></tr>\n",
              "\t<tr><td>204</td><td>Zambia     </td><td>2010</td><td> -46.5897878</td><td> 0.5153514</td><td> 1389.2826</td><td> 1489.4591</td></tr>\n",
              "\t<tr><td>204</td><td>Zambia     </td><td>2011</td><td> -79.1474185</td><td> 0.5097738</td><td> 1590.4030</td><td> 1672.9075</td></tr>\n",
              "\t<tr><td>204</td><td>Zambia     </td><td>2012</td><td>-168.2248256</td><td> 0.6609625</td><td> 1733.2062</td><td> 1763.0694</td></tr>\n",
              "\t<tr><td>204</td><td>Zambia     </td><td>2013</td><td>-113.2433072</td><td> 0.4359333</td><td> 1801.3802</td><td> 1878.3468</td></tr>\n",
              "\t<tr><td>204</td><td>Zambia     </td><td>2014</td><td>-161.2878822</td><td> 0.1562120</td><td> 1726.5859</td><td> 1762.4278</td></tr>\n",
              "\t<tr><td>204</td><td>Zambia     </td><td>2015</td><td>-108.5840318</td><td> 0.1516949</td><td> 1312.3448</td><td> 1338.2909</td></tr>\n",
              "\t<tr><td>204</td><td>Zambia     </td><td>2016</td><td> -29.7060948</td><td> 0.1428080</td><td> 1241.2606</td><td> 1280.8065</td></tr>\n",
              "\t<tr><td>204</td><td>Zambia     </td><td>2017</td><td> -69.9890299</td><td> 0.1462433</td><td> 1467.1510</td><td> 1535.1966</td></tr>\n",
              "\t<tr><td>204</td><td>Zambia     </td><td>2018</td><td> -20.9267928</td><td> 0.0856044</td><td> 1492.9237</td><td> 1516.3684</td></tr>\n",
              "\t<tr><td>204</td><td>Zambia     </td><td>2019</td><td>   8.2999465</td><td>-0.1138469</td><td> 1282.3491</td><td> 1305.0010</td></tr>\n",
              "\t<tr><td>205</td><td>Zimbabwe   </td><td>2010</td><td>  -9.6542206</td><td>-1.1040140</td><td>  936.5072</td><td>  948.3315</td></tr>\n",
              "\t<tr><td>205</td><td>Zimbabwe   </td><td>2011</td><td> -26.7016733</td><td>-0.9453285</td><td> 1074.5508</td><td> 1093.6534</td></tr>\n",
              "\t<tr><td>205</td><td>Zimbabwe   </td><td>2012</td><td> -26.6752593</td><td>-0.7786620</td><td> 1282.8441</td><td> 1304.9680</td></tr>\n",
              "\t<tr><td>205</td><td>Zimbabwe   </td><td>2013</td><td> -27.9430290</td><td>-0.6659498</td><td> 1408.2507</td><td> 1429.9985</td></tr>\n",
              "\t<tr><td>205</td><td>Zimbabwe   </td><td>2014</td><td> -34.7987114</td><td>-0.7135702</td><td> 1409.8138</td><td> 1434.8963</td></tr>\n",
              "\t<tr><td>205</td><td>Zimbabwe   </td><td>2015</td><td> -28.8968762</td><td>-0.6181563</td><td> 1418.5675</td><td> 1445.0697</td></tr>\n",
              "\t<tr><td>205</td><td>Zimbabwe   </td><td>2016</td><td> -24.4480078</td><td>-0.6199379</td><td> 1436.4156</td><td> 1464.5890</td></tr>\n",
              "\t<tr><td>205</td><td>Zimbabwe   </td><td>2017</td><td> -21.5116730</td><td>-0.7087693</td><td> 1213.4756</td><td> 1235.1890</td></tr>\n",
              "\t<tr><td>205</td><td>Zimbabwe   </td><td>2018</td><td> -49.6632678</td><td>-0.7227737</td><td> 1233.4939</td><td> 1254.6423</td></tr>\n",
              "\t<tr><td>205</td><td>Zimbabwe   </td><td>2019</td><td> -16.8718528</td><td>-0.9597493</td><td> 1290.2705</td><td> 1316.7407</td></tr>\n",
              "</tbody>\n",
              "</table>\n"
            ]
          },
          "metadata": {}
        }
      ]
    },
    {
      "cell_type": "code",
      "source": [
        "# summarize dataset\n",
        "summary(dd_pc)"
      ],
      "metadata": {
        "colab": {
          "base_uri": "https://localhost:8080/",
          "height": 267
        },
        "id": "nefYcH4btva_",
        "outputId": "82ffb82a-fc45-480d-8301-513c07cdf09f"
      },
      "execution_count": 6,
      "outputs": [
        {
          "output_type": "display_data",
          "data": {
            "text/plain": [
              "       X       country_name            year          fdi_pc          \n",
              " Min.   :  1   Length:2050        Min.   :2010   Min.   :-280375.21  \n",
              " 1st Qu.: 52   Class :character   1st Qu.:2012   1st Qu.:   -350.68  \n",
              " Median :103   Mode  :character   Median :2014   Median :    -92.26  \n",
              " Mean   :103                      Mean   :2014   Mean   :  -1656.30  \n",
              " 3rd Qu.:154                      3rd Qu.:2017   3rd Qu.:    -15.99  \n",
              " Max.   :205                      Max.   :2019   Max.   : 278715.51  \n",
              "    pol_stab            gni_pc             gdp_pc       \n",
              " Min.   :-3.13097   Min.   :     229   Min.   :    228  \n",
              " 1st Qu.:-0.65694   1st Qu.:    2158   1st Qu.:   2108  \n",
              " Median : 0.04672   Median :    6127   Median :   6368  \n",
              " Mean   :-0.02963   Mean   :  259395   Mean   :  18777  \n",
              " 3rd Qu.: 0.84086   3rd Qu.:   19170   3rd Qu.:  19840  \n",
              " Max.   : 1.96506   Max.   :12924473   Max.   :3662586  "
            ]
          },
          "metadata": {}
        }
      ]
    },
    {
      "cell_type": "code",
      "source": [
        "dataprep.out <- dataprep(dd_pc, \n",
        "                         predictors = \n",
        "                           c(\"pol_stab\", \n",
        "                             \"gdp_pc\"), \n",
        "                         predictors.op = \"mean\",\n",
        "                         special.predictors = list(\n",
        "                           list(\"fdi_pc\", 2011, \"mean\"),\n",
        "                           list(\"fdi_pc\", 2012, \"mean\"),\n",
        "                           list(\"fdi_pc\", 2013, \"mean\"),\n",
        "                           list(\"fdi_pc\", 2014, \"mean\")\n",
        "                           ),             \n",
        "                         dependent = \"fdi_pc\",\n",
        "                         time.variable = 'year', \n",
        "                         time.predictors.prior = c(2010:2016), \n",
        "                         unit.names.variable = \"country_name\",\n",
        "                         time.optimize.ssr = c(2010:2016), \n",
        "                         time.plot = 2010:2019, \n",
        "                         unit.variable = \"X\", \n",
        "                         treatment.identifier = \"Nigeria\",\n",
        "                         controls.identifier = c(setdiff(1:48, 34))\n",
        "                         )\n",
        "\n",
        "synth.out <- synth(dataprep.out)\n",
        "\n",
        "synth.tables <- synth.tab(\n",
        "  dataprep.res = dataprep.out, \n",
        "  synth.res = synth.out)\n",
        "\n",
        "print(synth.tables)\n",
        "\n",
        "path.plot(dataprep.res = dataprep.out,\n",
        "          synth.res = synth.out\n",
        "          ,Ylim = c(-500, 500)\n",
        "          )\n",
        "\n",
        "gaps.plot(dataprep.res = dataprep.out,\n",
        "          synth.res = synth.out \n",
        "          ,Ylim = c(-100, 100)\n",
        "          )"
      ],
      "metadata": {
        "colab": {
          "base_uri": "https://localhost:8080/",
          "height": 1000
        },
        "id": "IqhzFQjIvvk0",
        "outputId": "2b7f782c-6030-4274-82a1-406eab6349f4"
      },
      "execution_count": 7,
      "outputs": [
        {
          "output_type": "stream",
          "name": "stdout",
          "text": [
            "\n",
            "X1, X0, Z1, Z0 all come directly from dataprep object.\n",
            "\n",
            "\n",
            "**************** \n",
            " searching for synthetic control unit  \n",
            " \n",
            "\n",
            "**************** \n",
            "**************** \n",
            "**************** \n",
            "\n",
            "MSPE (LOSS V): 466.1304 \n",
            "\n",
            "solution.v:\n",
            " 0.1542222 0.2159245 0.2945802 0.0794696 0.04035417 0.2154493 \n",
            "\n",
            "solution.w:\n",
            " 0.7611429 0.001858597 0.006957085 0.0002038289 0.0002713739 0.0167073 0.002981288 0.007887509 0.00401271 0.0004953775 0.001248878 0.002742926 0.002505679 0.002004381 0.00117262 0.01372392 0.0008783513 0.002559385 0.002173339 0.002707603 0.009097356 0.007171629 0.00883627 0.005002122 0.003378193 0.003035896 0.002890102 0.001481555 0.006662468 0.01845709 0.05212424 0.002185834 0.003631687 0.004405941 0.0001986708 0.0009446067 0.002954854 0.001997418 0.004198347 0.003556262 0.001011936 0 0.001434873 0.001637852 0.01183662 0.003629142 0.004003942 \n",
            "\n",
            "$tab.pred\n",
            "                     Treated Synthetic Sample Mean\n",
            "pol_stab              -2.033    -2.033       0.001\n",
            "gdp_pc              2630.839  2630.848   15653.596\n",
            "special.fdi_pc.2011  -49.288   -51.848   -1864.833\n",
            "special.fdi_pc.2012  -33.127   -14.287   -1567.699\n",
            "special.fdi_pc.2013  -25.240   -41.688   -1812.593\n",
            "special.fdi_pc.2014  -17.457   -30.246   -1759.501\n",
            "\n",
            "$tab.v\n",
            "                    v.weights\n",
            "pol_stab            0.154    \n",
            "gdp_pc              0.216    \n",
            "special.fdi_pc.2011 0.295    \n",
            "special.fdi_pc.2012 0.079    \n",
            "special.fdi_pc.2013 0.04     \n",
            "special.fdi_pc.2014 0.215    \n",
            "\n",
            "$tab.w\n",
            "   w.weights               unit.names unit.numbers\n",
            "1      0.761              Afghanistan            1\n",
            "2      0.002                  Albania            2\n",
            "3      0.007                  Algeria            3\n",
            "4      0.000           American Samoa            4\n",
            "5      0.000                  Andorra            5\n",
            "6      0.017                   Angola            6\n",
            "7      0.003      Antigua and Barbuda            7\n",
            "8      0.008                Argentina            8\n",
            "9      0.004                  Armenia            9\n",
            "10     0.000                    Aruba           10\n",
            "11     0.001                Australia           11\n",
            "12     0.003                  Austria           12\n",
            "13     0.003               Azerbaijan           13\n",
            "14     0.002             Bahamas, The           14\n",
            "15     0.001                  Bahrain           15\n",
            "16     0.014               Bangladesh           16\n",
            "17     0.001                 Barbados           17\n",
            "18     0.003                  Belarus           18\n",
            "19     0.002                  Belgium           19\n",
            "20     0.003                   Belize           20\n",
            "21     0.009                    Benin           21\n",
            "22     0.007                  Bermuda           22\n",
            "23     0.009                   Bhutan           23\n",
            "24     0.005                  Bolivia           24\n",
            "25     0.003   Bosnia and Herzegovina           25\n",
            "26     0.003                 Botswana           26\n",
            "27     0.003                   Brazil           27\n",
            "28     0.001        Brunei Darussalam           28\n",
            "29     0.007                 Bulgaria           29\n",
            "30     0.018             Burkina Faso           30\n",
            "31     0.052                  Burundi           31\n",
            "32     0.002               Cabo Verde           32\n",
            "33     0.004                 Cambodia           33\n",
            "35     0.004                   Canada           35\n",
            "36     0.000           Cayman Islands           36\n",
            "37     0.001 Central African Republic           37\n",
            "38     0.003                     Chad           38\n",
            "39     0.002                    Chile           39\n",
            "40     0.004                    China           40\n",
            "41     0.004                 Colombia           41\n",
            "42     0.001                  Comoros           42\n",
            "43     0.000         Congo, Dem. Rep.           43\n",
            "44     0.001              Congo, Rep.           44\n",
            "45     0.002               Costa Rica           45\n",
            "46     0.012            Cote d'Ivoire           46\n",
            "47     0.004                  Croatia           47\n",
            "48     0.004                     Cuba           48\n",
            "\n",
            "$tab.loss\n",
            "           Loss W   Loss V\n",
            "[1,] 2.336202e-06 466.1304\n",
            "\n"
          ]
        },
        {
          "output_type": "display_data",
          "data": {
            "image/png": "[encoded data removed]",
            "text/plain": [
              "Plot with title “NA”"
            ]
          },
          "metadata": {
            "image/png": {
              "width": 420,
              "height": 420
            }
          }
        },
        {
          "output_type": "display_data",
          "data": {
            "image/png": "[encoded data removed]",
            "text/plain": [
              "Plot with title “Gaps: Treated - Synthetic”"
            ]
          },
          "metadata": {
            "image/png": {
              "width": 420,
              "height": 420
            }
          }
        }
      ]
    },
    {
      "cell_type": "markdown",
      "source": [
        "## Model 2. \n",
        "This model uses country data where all countries with missing at least one missing fdi value were removed from the donor pool. The donor pool is made up of 166 countries."
      ],
      "metadata": {
        "id": "jZefrkZO23hS"
      }
    },
    {
      "cell_type": "code",
      "source": [
        "# load cleaned data \n",
        "dd2 <- read.csv(url(\"https://raw.githubusercontent.com/ibukunlola/capstone/main/model3/nan_removed_df.csv\"))\n",
        "\n",
        "# create unique unit numbers for each country in the dataframe\n",
        "countries2 <- unique(dd2$country_name)\n",
        "count = 1\n",
        "for (country in countries2){\n",
        "  indices <- which(dd2$country_name == country)\n",
        "  for (index in indices){\n",
        "    dd2$X[index] <- count\n",
        "  }\n",
        "  count = count+1\n",
        "}\n",
        "\n",
        "head(dd2, n = 10)"
      ],
      "metadata": {
        "colab": {
          "base_uri": "https://localhost:8080/",
          "height": 411
        },
        "id": "XjdY5W4z5Iip",
        "outputId": "765ab4ce-4f75-4d14-d349-080532f7104d"
      },
      "execution_count": 8,
      "outputs": [
        {
          "output_type": "display_data",
          "data": {
            "text/plain": [
              "   X country_name year fdi        pol_stab  gni         gdp         pop     \n",
              "1  1 Afghanistan  2010 -192022479 -2.579152 15884609987 15856678596 29185511\n",
              "2  1 Afghanistan  2011  -51036284 -2.502060 17785698871 17805113119 30117411\n",
              "3  1 Afghanistan  2012  -65684511 -2.418561 19938663919 19907317066 31161378\n",
              "4  1 Afghanistan  2013  -47774027 -2.519349 20216694880 20146404996 32269592\n",
              "5  1 Afghanistan  2014  -42994416 -2.411068 20494754800 20497126770 33370804\n",
              "6  1 Afghanistan  2015 -166983555 -2.571222 19307190568 19134211764 34413603\n",
              "7  1 Afghanistan  2016  -79585269 -2.671054 18297097175 18116562465 35383028\n",
              "8  1 Afghanistan  2017  -40273161 -2.801084 19000254383 18753469630 36296111\n",
              "9  1 Afghanistan  2018  -80631404 -2.763864 18240838102 18053228579 37171922\n",
              "10 1 Afghanistan  2019    2916493 -2.655531 19098305631 18799450743 38041757"
            ],
            "text/latex": "A data.frame: 10 × 8\n\\begin{tabular}{r|llllllll}\n  & X & country\\_name & year & fdi & pol\\_stab & gni & gdp & pop\\\\\n  & <dbl> & <chr> & <int> & <dbl> & <dbl> & <dbl> & <dbl> & <dbl>\\\\\n\\hline\n\t1 & 1 & Afghanistan & 2010 & -192022479 & -2.579152 & 15884609987 & 15856678596 & 29185511\\\\\n\t2 & 1 & Afghanistan & 2011 &  -51036284 & -2.502060 & 17785698871 & 17805113119 & 30117411\\\\\n\t3 & 1 & Afghanistan & 2012 &  -65684511 & -2.418561 & 19938663919 & 19907317066 & 31161378\\\\\n\t4 & 1 & Afghanistan & 2013 &  -47774027 & -2.519349 & 20216694880 & 20146404996 & 32269592\\\\\n\t5 & 1 & Afghanistan & 2014 &  -42994416 & -2.411068 & 20494754800 & 20497126770 & 33370804\\\\\n\t6 & 1 & Afghanistan & 2015 & -166983555 & -2.571222 & 19307190568 & 19134211764 & 34413603\\\\\n\t7 & 1 & Afghanistan & 2016 &  -79585269 & -2.671054 & 18297097175 & 18116562465 & 35383028\\\\\n\t8 & 1 & Afghanistan & 2017 &  -40273161 & -2.801084 & 19000254383 & 18753469630 & 36296111\\\\\n\t9 & 1 & Afghanistan & 2018 &  -80631404 & -2.763864 & 18240838102 & 18053228579 & 37171922\\\\\n\t10 & 1 & Afghanistan & 2019 &    2916493 & -2.655531 & 19098305631 & 18799450743 & 38041757\\\\\n\\end{tabular}\n",
            "text/markdown": "\nA data.frame: 10 × 8\n\n| <!--/--> | X &lt;dbl&gt; | country_name &lt;chr&gt; | year &lt;int&gt; | fdi &lt;dbl&gt; | pol_stab &lt;dbl&gt; | gni &lt;dbl&gt; | gdp &lt;dbl&gt; | pop &lt;dbl&gt; |\n|---|---|---|---|---|---|---|---|---|\n| 1 | 1 | Afghanistan | 2010 | -192022479 | -2.579152 | 15884609987 | 15856678596 | 29185511 |\n| 2 | 1 | Afghanistan | 2011 |  -51036284 | -2.502060 | 17785698871 | 17805113119 | 30117411 |\n| 3 | 1 | Afghanistan | 2012 |  -65684511 | -2.418561 | 19938663919 | 19907317066 | 31161378 |\n| 4 | 1 | Afghanistan | 2013 |  -47774027 | -2.519349 | 20216694880 | 20146404996 | 32269592 |\n| 5 | 1 | Afghanistan | 2014 |  -42994416 | -2.411068 | 20494754800 | 20497126770 | 33370804 |\n| 6 | 1 | Afghanistan | 2015 | -166983555 | -2.571222 | 19307190568 | 19134211764 | 34413603 |\n| 7 | 1 | Afghanistan | 2016 |  -79585269 | -2.671054 | 18297097175 | 18116562465 | 35383028 |\n| 8 | 1 | Afghanistan | 2017 |  -40273161 | -2.801084 | 19000254383 | 18753469630 | 36296111 |\n| 9 | 1 | Afghanistan | 2018 |  -80631404 | -2.763864 | 18240838102 | 18053228579 | 37171922 |\n| 10 | 1 | Afghanistan | 2019 |    2916493 | -2.655531 | 19098305631 | 18799450743 | 38041757 |\n\n",
            "text/html": [
              "<table class=\"dataframe\">\n",
              "<caption>A data.frame: 10 × 8</caption>\n",
              "<thead>\n",
              "\t<tr><th></th><th scope=col>X</th><th scope=col>country_name</th><th scope=col>year</th><th scope=col>fdi</th><th scope=col>pol_stab</th><th scope=col>gni</th><th scope=col>gdp</th><th scope=col>pop</th></tr>\n",
              "\t<tr><th></th><th scope=col>&lt;dbl&gt;</th><th scope=col>&lt;chr&gt;</th><th scope=col>&lt;int&gt;</th><th scope=col>&lt;dbl&gt;</th><th scope=col>&lt;dbl&gt;</th><th scope=col>&lt;dbl&gt;</th><th scope=col>&lt;dbl&gt;</th><th scope=col>&lt;dbl&gt;</th></tr>\n",
              "</thead>\n",
              "<tbody>\n",
              "\t<tr><th scope=row>1</th><td>1</td><td>Afghanistan</td><td>2010</td><td>-192022479</td><td>-2.579152</td><td>15884609987</td><td>15856678596</td><td>29185511</td></tr>\n",
              "\t<tr><th scope=row>2</th><td>1</td><td>Afghanistan</td><td>2011</td><td> -51036284</td><td>-2.502060</td><td>17785698871</td><td>17805113119</td><td>30117411</td></tr>\n",
              "\t<tr><th scope=row>3</th><td>1</td><td>Afghanistan</td><td>2012</td><td> -65684511</td><td>-2.418561</td><td>19938663919</td><td>19907317066</td><td>31161378</td></tr>\n",
              "\t<tr><th scope=row>4</th><td>1</td><td>Afghanistan</td><td>2013</td><td> -47774027</td><td>-2.519349</td><td>20216694880</td><td>20146404996</td><td>32269592</td></tr>\n",
              "\t<tr><th scope=row>5</th><td>1</td><td>Afghanistan</td><td>2014</td><td> -42994416</td><td>-2.411068</td><td>20494754800</td><td>20497126770</td><td>33370804</td></tr>\n",
              "\t<tr><th scope=row>6</th><td>1</td><td>Afghanistan</td><td>2015</td><td>-166983555</td><td>-2.571222</td><td>19307190568</td><td>19134211764</td><td>34413603</td></tr>\n",
              "\t<tr><th scope=row>7</th><td>1</td><td>Afghanistan</td><td>2016</td><td> -79585269</td><td>-2.671054</td><td>18297097175</td><td>18116562465</td><td>35383028</td></tr>\n",
              "\t<tr><th scope=row>8</th><td>1</td><td>Afghanistan</td><td>2017</td><td> -40273161</td><td>-2.801084</td><td>19000254383</td><td>18753469630</td><td>36296111</td></tr>\n",
              "\t<tr><th scope=row>9</th><td>1</td><td>Afghanistan</td><td>2018</td><td> -80631404</td><td>-2.763864</td><td>18240838102</td><td>18053228579</td><td>37171922</td></tr>\n",
              "\t<tr><th scope=row>10</th><td>1</td><td>Afghanistan</td><td>2019</td><td>   2916493</td><td>-2.655531</td><td>19098305631</td><td>18799450743</td><td>38041757</td></tr>\n",
              "</tbody>\n",
              "</table>\n"
            ]
          },
          "metadata": {}
        }
      ]
    },
    {
      "cell_type": "code",
      "source": [
        "# generate new dataframe with per-capita data on the predictors and outcome variable\n",
        "fdi_pc2 = dd2$fdi/dd2$pop\n",
        "gni_pc2 = dd2$gni/dd2$pop\n",
        "gdp_pc2 = dd2$gdp/dd2$pop\n",
        "\n",
        "dd_pc2 = data.frame(dd2$X, dd2$country_name, dd2$year, fdi_pc2, dd2$pol_stab,\n",
        "                   gni_pc2, gdp_pc2)\n",
        "\n",
        "# change column names\n",
        "colnames(dd_pc2) <- c(\"X\", \"country_name\", \"year\", \"fdi_pc\", \"pol_stab\",\n",
        "                  \"gni_pc\", \"gdp_pc\")\n",
        "\n",
        "write.csv(dd_pc2,\"nan_removed_pc_df.csv\", row.names = FALSE)\n",
        "dd_pc2"
      ],
      "metadata": {
        "colab": {
          "base_uri": "https://localhost:8080/",
          "height": 1000
        },
        "id": "9zaE78k66Q8O",
        "outputId": "01c7fdcd-f8fc-4643-cdd5-e6a731804cac"
      },
      "execution_count": 11,
      "outputs": [
        {
          "output_type": "display_data",
          "data": {
            "text/plain": [
              "     X   country_name       year fdi_pc        pol_stab   gni_pc    gdp_pc   \n",
              "1    1   Afghanistan        2010   -6.57937699 -2.5791520  544.2636  543.3065\n",
              "2    1   Afghanistan        2011   -1.69457739 -2.5020600  590.5454  591.1900\n",
              "3    1   Afghanistan        2012   -2.10788211 -2.4185610  639.8518  638.8459\n",
              "4    1   Afghanistan        2013   -1.48046579 -2.5193490  626.4937  624.3155\n",
              "5    1   Afghanistan        2014   -1.28838419 -2.4110680  614.1523  614.2233\n",
              "6    1   Afghanistan        2015   -4.85225435 -2.5712220  561.0337  556.0072\n",
              "7    1   Afghanistan        2016   -2.24924980 -2.6710540  517.1151  512.0128\n",
              "8    1   Afghanistan        2017   -1.10957235 -2.8010840  523.4791  516.6799\n",
              "9    1   Afghanistan        2018   -2.16914810 -2.7638640  490.7155  485.6684\n",
              "10   1   Afghanistan        2019    0.07666557 -2.6555310  502.0353  494.1793\n",
              "11   2   Albania            2010 -358.22319100 -0.1914829 4053.4434 4094.3484\n",
              "12   2   Albania            2011 -291.41475241 -0.2823794 4438.2921 4437.1426\n",
              "13   2   Albania            2012 -287.82331238 -0.1436316 4215.9913 4247.6300\n",
              "14   2   Albania            2013 -423.36283008  0.0919298 4489.1628 4413.0620\n",
              "15   2   Albania            2014 -371.84337790  0.4859862 4620.6089 4578.6332\n",
              "16   2   Albania            2015 -315.98423231  0.3461291 3999.6516 3952.8025\n",
              "17   2   Albania            2016 -360.67195764  0.3446447 4191.0326 4124.0554\n",
              "18   2   Albania            2017 -392.87946381  0.3784748 4542.0832 4531.0194\n",
              "19   2   Albania            2018 -421.75918506  0.3705156 5281.2308 5287.6637\n",
              "20   2   Albania            2019 -406.79000080  0.1111686 5325.0330 5395.6595\n",
              "21   3   Algeria            2010  -57.84556706 -1.2593680 4468.3994 4480.7863\n",
              "22   3   Algeria            2011  -55.57117967 -1.3605610 5399.9372 5455.6794\n",
              "23   3   Algeria            2012  -41.24354753 -1.3250430 5521.4000 5592.2201\n",
              "24   3   Algeria            2013  -51.48474303 -1.2023710 5390.6551 5499.5873\n",
              "25   3   Algeria            2014  -39.07073552 -1.1905350 5366.2540 5493.0567\n",
              "26   3   Algeria            2015   16.08223152 -1.0901600 4069.3509 4177.8895\n",
              "27   3   Algeria            2016  -39.25199008 -1.0975260 3907.9787 3946.4524\n",
              "28   3   Algeria            2017  -29.93077068 -0.9157991 4048.3768 4109.6982\n",
              "29   3   Algeria            2018  -14.67979653 -0.8361196 4037.7331 4142.0186\n",
              "30   3   Algeria            2019  -31.35785940 -1.0443430 3892.1312 3989.6683\n",
              "⋮    ⋮   ⋮                  ⋮    ⋮             ⋮          ⋮         ⋮        \n",
              "1631 164 West Bank and Gaza 2010  -32.185442   -1.9735750 2715.3098 2557.0756\n",
              "1632 164 West Bank and Gaza 2011 -122.943097   -1.9356200 3073.8200 2880.7984\n",
              "1633 164 West Bank and Gaza 2012   -7.365104   -1.9560320 3282.8911 3067.4387\n",
              "1634 164 West Bank and Gaza 2013  -54.957602   -1.7788230 3599.9144 3315.2975\n",
              "1635 164 West Bank and Gaza 2014    6.647750   -1.9850110 3707.3627 3352.1126\n",
              "1636 164 West Bank and Gaza 2015   -6.947838   -2.1605020 3673.1761 3272.1543\n",
              "1637 164 West Bank and Gaza 2016  -78.188967   -1.9763990 3961.7017 3527.6138\n",
              "1638 164 West Bank and Gaza 2017  -42.918989   -1.6599770 4098.2714 3620.3605\n",
              "1639 164 West Bank and Gaza 2018  -61.830642   -1.8163360 4172.3653 3562.3309\n",
              "1640 164 West Bank and Gaza 2019  -40.201615   -1.8952900 4303.8171 3656.8583\n",
              "1641 165 Zambia             2010  -46.589788    0.5153514 1389.2826 1489.4591\n",
              "1642 165 Zambia             2011  -79.147419    0.5097738 1590.4030 1672.9075\n",
              "1643 165 Zambia             2012 -168.224826    0.6609625 1733.2062 1763.0694\n",
              "1644 165 Zambia             2013 -113.243307    0.4359333 1801.3802 1878.3468\n",
              "1645 165 Zambia             2014 -161.287882    0.1562120 1726.5859 1762.4278\n",
              "1646 165 Zambia             2015 -108.584032    0.1516949 1312.3448 1338.2909\n",
              "1647 165 Zambia             2016  -29.706095    0.1428080 1241.2606 1280.8065\n",
              "1648 165 Zambia             2017  -69.989030    0.1462433 1467.1510 1535.1966\n",
              "1649 165 Zambia             2018  -20.926793    0.0856044 1492.9237 1516.3684\n",
              "1650 165 Zambia             2019    8.299947   -0.1138469 1282.3491 1305.0010\n",
              "1651 166 Zimbabwe           2010   -9.654221   -1.1040140  936.5072  948.3315\n",
              "1652 166 Zimbabwe           2011  -26.701673   -0.9453285 1074.5508 1093.6534\n",
              "1653 166 Zimbabwe           2012  -26.675259   -0.7786620 1282.8441 1304.9680\n",
              "1654 166 Zimbabwe           2013  -27.943029   -0.6659498 1408.2507 1429.9985\n",
              "1655 166 Zimbabwe           2014  -34.798711   -0.7135702 1409.8138 1434.8963\n",
              "1656 166 Zimbabwe           2015  -28.896876   -0.6181563 1418.5675 1445.0697\n",
              "1657 166 Zimbabwe           2016  -24.448008   -0.6199379 1436.4156 1464.5890\n",
              "1658 166 Zimbabwe           2017  -21.511673   -0.7087693 1213.4756 1235.1890\n",
              "1659 166 Zimbabwe           2018  -49.663268   -0.7227737 1233.4939 1254.6423\n",
              "1660 166 Zimbabwe           2019  -16.871853   -0.9597493 1290.2705 1316.7407"
            ],
            "text/latex": "A data.frame: 1660 × 7\n\\begin{tabular}{lllllll}\n X & country\\_name & year & fdi\\_pc & pol\\_stab & gni\\_pc & gdp\\_pc\\\\\n <dbl> & <chr> & <int> & <dbl> & <dbl> & <dbl> & <dbl>\\\\\n\\hline\n\t 1 & Afghanistan & 2010 &   -6.57937699 & -2.5791520 &  544.2636 &  543.3065\\\\\n\t 1 & Afghanistan & 2011 &   -1.69457739 & -2.5020600 &  590.5454 &  591.1900\\\\\n\t 1 & Afghanistan & 2012 &   -2.10788211 & -2.4185610 &  639.8518 &  638.8459\\\\\n\t 1 & Afghanistan & 2013 &   -1.48046579 & -2.5193490 &  626.4937 &  624.3155\\\\\n\t 1 & Afghanistan & 2014 &   -1.28838419 & -2.4110680 &  614.1523 &  614.2233\\\\\n\t 1 & Afghanistan & 2015 &   -4.85225435 & -2.5712220 &  561.0337 &  556.0072\\\\\n\t 1 & Afghanistan & 2016 &   -2.24924980 & -2.6710540 &  517.1151 &  512.0128\\\\\n\t 1 & Afghanistan & 2017 &   -1.10957235 & -2.8010840 &  523.4791 &  516.6799\\\\\n\t 1 & Afghanistan & 2018 &   -2.16914810 & -2.7638640 &  490.7155 &  485.6684\\\\\n\t 1 & Afghanistan & 2019 &    0.07666557 & -2.6555310 &  502.0353 &  494.1793\\\\\n\t 2 & Albania     & 2010 & -358.22319100 & -0.1914829 & 4053.4434 & 4094.3484\\\\\n\t 2 & Albania     & 2011 & -291.41475241 & -0.2823794 & 4438.2921 & 4437.1426\\\\\n\t 2 & Albania     & 2012 & -287.82331238 & -0.1436316 & 4215.9913 & 4247.6300\\\\\n\t 2 & Albania     & 2013 & -423.36283008 &  0.0919298 & 4489.1628 & 4413.0620\\\\\n\t 2 & Albania     & 2014 & -371.84337790 &  0.4859862 & 4620.6089 & 4578.6332\\\\\n\t 2 & Albania     & 2015 & -315.98423231 &  0.3461291 & 3999.6516 & 3952.8025\\\\\n\t 2 & Albania     & 2016 & -360.67195764 &  0.3446447 & 4191.0326 & 4124.0554\\\\\n\t 2 & Albania     & 2017 & -392.87946381 &  0.3784748 & 4542.0832 & 4531.0194\\\\\n\t 2 & Albania     & 2018 & -421.75918506 &  0.3705156 & 5281.2308 & 5287.6637\\\\\n\t 2 & Albania     & 2019 & -406.79000080 &  0.1111686 & 5325.0330 & 5395.6595\\\\\n\t 3 & Algeria     & 2010 &  -57.84556706 & -1.2593680 & 4468.3994 & 4480.7863\\\\\n\t 3 & Algeria     & 2011 &  -55.57117967 & -1.3605610 & 5399.9372 & 5455.6794\\\\\n\t 3 & Algeria     & 2012 &  -41.24354753 & -1.3250430 & 5521.4000 & 5592.2201\\\\\n\t 3 & Algeria     & 2013 &  -51.48474303 & -1.2023710 & 5390.6551 & 5499.5873\\\\\n\t 3 & Algeria     & 2014 &  -39.07073552 & -1.1905350 & 5366.2540 & 5493.0567\\\\\n\t 3 & Algeria     & 2015 &   16.08223152 & -1.0901600 & 4069.3509 & 4177.8895\\\\\n\t 3 & Algeria     & 2016 &  -39.25199008 & -1.0975260 & 3907.9787 & 3946.4524\\\\\n\t 3 & Algeria     & 2017 &  -29.93077068 & -0.9157991 & 4048.3768 & 4109.6982\\\\\n\t 3 & Algeria     & 2018 &  -14.67979653 & -0.8361196 & 4037.7331 & 4142.0186\\\\\n\t 3 & Algeria     & 2019 &  -31.35785940 & -1.0443430 & 3892.1312 & 3989.6683\\\\\n\t ⋮ & ⋮ & ⋮ & ⋮ & ⋮ & ⋮ & ⋮\\\\\n\t 164 & West Bank and Gaza & 2010 &  -32.185442 & -1.9735750 & 2715.3098 & 2557.0756\\\\\n\t 164 & West Bank and Gaza & 2011 & -122.943097 & -1.9356200 & 3073.8200 & 2880.7984\\\\\n\t 164 & West Bank and Gaza & 2012 &   -7.365104 & -1.9560320 & 3282.8911 & 3067.4387\\\\\n\t 164 & West Bank and Gaza & 2013 &  -54.957602 & -1.7788230 & 3599.9144 & 3315.2975\\\\\n\t 164 & West Bank and Gaza & 2014 &    6.647750 & -1.9850110 & 3707.3627 & 3352.1126\\\\\n\t 164 & West Bank and Gaza & 2015 &   -6.947838 & -2.1605020 & 3673.1761 & 3272.1543\\\\\n\t 164 & West Bank and Gaza & 2016 &  -78.188967 & -1.9763990 & 3961.7017 & 3527.6138\\\\\n\t 164 & West Bank and Gaza & 2017 &  -42.918989 & -1.6599770 & 4098.2714 & 3620.3605\\\\\n\t 164 & West Bank and Gaza & 2018 &  -61.830642 & -1.8163360 & 4172.3653 & 3562.3309\\\\\n\t 164 & West Bank and Gaza & 2019 &  -40.201615 & -1.8952900 & 4303.8171 & 3656.8583\\\\\n\t 165 & Zambia             & 2010 &  -46.589788 &  0.5153514 & 1389.2826 & 1489.4591\\\\\n\t 165 & Zambia             & 2011 &  -79.147419 &  0.5097738 & 1590.4030 & 1672.9075\\\\\n\t 165 & Zambia             & 2012 & -168.224826 &  0.6609625 & 1733.2062 & 1763.0694\\\\\n\t 165 & Zambia             & 2013 & -113.243307 &  0.4359333 & 1801.3802 & 1878.3468\\\\\n\t 165 & Zambia             & 2014 & -161.287882 &  0.1562120 & 1726.5859 & 1762.4278\\\\\n\t 165 & Zambia             & 2015 & -108.584032 &  0.1516949 & 1312.3448 & 1338.2909\\\\\n\t 165 & Zambia             & 2016 &  -29.706095 &  0.1428080 & 1241.2606 & 1280.8065\\\\\n\t 165 & Zambia             & 2017 &  -69.989030 &  0.1462433 & 1467.1510 & 1535.1966\\\\\n\t 165 & Zambia             & 2018 &  -20.926793 &  0.0856044 & 1492.9237 & 1516.3684\\\\\n\t 165 & Zambia             & 2019 &    8.299947 & -0.1138469 & 1282.3491 & 1305.0010\\\\\n\t 166 & Zimbabwe           & 2010 &   -9.654221 & -1.1040140 &  936.5072 &  948.3315\\\\\n\t 166 & Zimbabwe           & 2011 &  -26.701673 & -0.9453285 & 1074.5508 & 1093.6534\\\\\n\t 166 & Zimbabwe           & 2012 &  -26.675259 & -0.7786620 & 1282.8441 & 1304.9680\\\\\n\t 166 & Zimbabwe           & 2013 &  -27.943029 & -0.6659498 & 1408.2507 & 1429.9985\\\\\n\t 166 & Zimbabwe           & 2014 &  -34.798711 & -0.7135702 & 1409.8138 & 1434.8963\\\\\n\t 166 & Zimbabwe           & 2015 &  -28.896876 & -0.6181563 & 1418.5675 & 1445.0697\\\\\n\t 166 & Zimbabwe           & 2016 &  -24.448008 & -0.6199379 & 1436.4156 & 1464.5890\\\\\n\t 166 & Zimbabwe           & 2017 &  -21.511673 & -0.7087693 & 1213.4756 & 1235.1890\\\\\n\t 166 & Zimbabwe           & 2018 &  -49.663268 & -0.7227737 & 1233.4939 & 1254.6423\\\\\n\t 166 & Zimbabwe           & 2019 &  -16.871853 & -0.9597493 & 1290.2705 & 1316.7407\\\\\n\\end{tabular}\n",
            "text/markdown": "\nA data.frame: 1660 × 7\n\n| X &lt;dbl&gt; | country_name &lt;chr&gt; | year &lt;int&gt; | fdi_pc &lt;dbl&gt; | pol_stab &lt;dbl&gt; | gni_pc &lt;dbl&gt; | gdp_pc &lt;dbl&gt; |\n|---|---|---|---|---|---|---|\n| 1 | Afghanistan | 2010 |   -6.57937699 | -2.5791520 |  544.2636 |  543.3065 |\n| 1 | Afghanistan | 2011 |   -1.69457739 | -2.5020600 |  590.5454 |  591.1900 |\n| 1 | Afghanistan | 2012 |   -2.10788211 | -2.4185610 |  639.8518 |  638.8459 |\n| 1 | Afghanistan | 2013 |   -1.48046579 | -2.5193490 |  626.4937 |  624.3155 |\n| 1 | Afghanistan | 2014 |   -1.28838419 | -2.4110680 |  614.1523 |  614.2233 |\n| 1 | Afghanistan | 2015 |   -4.85225435 | -2.5712220 |  561.0337 |  556.0072 |\n| 1 | Afghanistan | 2016 |   -2.24924980 | -2.6710540 |  517.1151 |  512.0128 |\n| 1 | Afghanistan | 2017 |   -1.10957235 | -2.8010840 |  523.4791 |  516.6799 |\n| 1 | Afghanistan | 2018 |   -2.16914810 | -2.7638640 |  490.7155 |  485.6684 |\n| 1 | Afghanistan | 2019 |    0.07666557 | -2.6555310 |  502.0353 |  494.1793 |\n| 2 | Albania     | 2010 | -358.22319100 | -0.1914829 | 4053.4434 | 4094.3484 |\n| 2 | Albania     | 2011 | -291.41475241 | -0.2823794 | 4438.2921 | 4437.1426 |\n| 2 | Albania     | 2012 | -287.82331238 | -0.1436316 | 4215.9913 | 4247.6300 |\n| 2 | Albania     | 2013 | -423.36283008 |  0.0919298 | 4489.1628 | 4413.0620 |\n| 2 | Albania     | 2014 | -371.84337790 |  0.4859862 | 4620.6089 | 4578.6332 |\n| 2 | Albania     | 2015 | -315.98423231 |  0.3461291 | 3999.6516 | 3952.8025 |\n| 2 | Albania     | 2016 | -360.67195764 |  0.3446447 | 4191.0326 | 4124.0554 |\n| 2 | Albania     | 2017 | -392.87946381 |  0.3784748 | 4542.0832 | 4531.0194 |\n| 2 | Albania     | 2018 | -421.75918506 |  0.3705156 | 5281.2308 | 5287.6637 |\n| 2 | Albania     | 2019 | -406.79000080 |  0.1111686 | 5325.0330 | 5395.6595 |\n| 3 | Algeria     | 2010 |  -57.84556706 | -1.2593680 | 4468.3994 | 4480.7863 |\n| 3 | Algeria     | 2011 |  -55.57117967 | -1.3605610 | 5399.9372 | 5455.6794 |\n| 3 | Algeria     | 2012 |  -41.24354753 | -1.3250430 | 5521.4000 | 5592.2201 |\n| 3 | Algeria     | 2013 |  -51.48474303 | -1.2023710 | 5390.6551 | 5499.5873 |\n| 3 | Algeria     | 2014 |  -39.07073552 | -1.1905350 | 5366.2540 | 5493.0567 |\n| 3 | Algeria     | 2015 |   16.08223152 | -1.0901600 | 4069.3509 | 4177.8895 |\n| 3 | Algeria     | 2016 |  -39.25199008 | -1.0975260 | 3907.9787 | 3946.4524 |\n| 3 | Algeria     | 2017 |  -29.93077068 | -0.9157991 | 4048.3768 | 4109.6982 |\n| 3 | Algeria     | 2018 |  -14.67979653 | -0.8361196 | 4037.7331 | 4142.0186 |\n| 3 | Algeria     | 2019 |  -31.35785940 | -1.0443430 | 3892.1312 | 3989.6683 |\n| ⋮ | ⋮ | ⋮ | ⋮ | ⋮ | ⋮ | ⋮ |\n| 164 | West Bank and Gaza | 2010 |  -32.185442 | -1.9735750 | 2715.3098 | 2557.0756 |\n| 164 | West Bank and Gaza | 2011 | -122.943097 | -1.9356200 | 3073.8200 | 2880.7984 |\n| 164 | West Bank and Gaza | 2012 |   -7.365104 | -1.9560320 | 3282.8911 | 3067.4387 |\n| 164 | West Bank and Gaza | 2013 |  -54.957602 | -1.7788230 | 3599.9144 | 3315.2975 |\n| 164 | West Bank and Gaza | 2014 |    6.647750 | -1.9850110 | 3707.3627 | 3352.1126 |\n| 164 | West Bank and Gaza | 2015 |   -6.947838 | -2.1605020 | 3673.1761 | 3272.1543 |\n| 164 | West Bank and Gaza | 2016 |  -78.188967 | -1.9763990 | 3961.7017 | 3527.6138 |\n| 164 | West Bank and Gaza | 2017 |  -42.918989 | -1.6599770 | 4098.2714 | 3620.3605 |\n| 164 | West Bank and Gaza | 2018 |  -61.830642 | -1.8163360 | 4172.3653 | 3562.3309 |\n| 164 | West Bank and Gaza | 2019 |  -40.201615 | -1.8952900 | 4303.8171 | 3656.8583 |\n| 165 | Zambia             | 2010 |  -46.589788 |  0.5153514 | 1389.2826 | 1489.4591 |\n| 165 | Zambia             | 2011 |  -79.147419 |  0.5097738 | 1590.4030 | 1672.9075 |\n| 165 | Zambia             | 2012 | -168.224826 |  0.6609625 | 1733.2062 | 1763.0694 |\n| 165 | Zambia             | 2013 | -113.243307 |  0.4359333 | 1801.3802 | 1878.3468 |\n| 165 | Zambia             | 2014 | -161.287882 |  0.1562120 | 1726.5859 | 1762.4278 |\n| 165 | Zambia             | 2015 | -108.584032 |  0.1516949 | 1312.3448 | 1338.2909 |\n| 165 | Zambia             | 2016 |  -29.706095 |  0.1428080 | 1241.2606 | 1280.8065 |\n| 165 | Zambia             | 2017 |  -69.989030 |  0.1462433 | 1467.1510 | 1535.1966 |\n| 165 | Zambia             | 2018 |  -20.926793 |  0.0856044 | 1492.9237 | 1516.3684 |\n| 165 | Zambia             | 2019 |    8.299947 | -0.1138469 | 1282.3491 | 1305.0010 |\n| 166 | Zimbabwe           | 2010 |   -9.654221 | -1.1040140 |  936.5072 |  948.3315 |\n| 166 | Zimbabwe           | 2011 |  -26.701673 | -0.9453285 | 1074.5508 | 1093.6534 |\n| 166 | Zimbabwe           | 2012 |  -26.675259 | -0.7786620 | 1282.8441 | 1304.9680 |\n| 166 | Zimbabwe           | 2013 |  -27.943029 | -0.6659498 | 1408.2507 | 1429.9985 |\n| 166 | Zimbabwe           | 2014 |  -34.798711 | -0.7135702 | 1409.8138 | 1434.8963 |\n| 166 | Zimbabwe           | 2015 |  -28.896876 | -0.6181563 | 1418.5675 | 1445.0697 |\n| 166 | Zimbabwe           | 2016 |  -24.448008 | -0.6199379 | 1436.4156 | 1464.5890 |\n| 166 | Zimbabwe           | 2017 |  -21.511673 | -0.7087693 | 1213.4756 | 1235.1890 |\n| 166 | Zimbabwe           | 2018 |  -49.663268 | -0.7227737 | 1233.4939 | 1254.6423 |\n| 166 | Zimbabwe           | 2019 |  -16.871853 | -0.9597493 | 1290.2705 | 1316.7407 |\n\n",
            "text/html": [
              "<table class=\"dataframe\">\n",
              "<caption>A data.frame: 1660 × 7</caption>\n",
              "<thead>\n",
              "\t<tr><th scope=col>X</th><th scope=col>country_name</th><th scope=col>year</th><th scope=col>fdi_pc</th><th scope=col>pol_stab</th><th scope=col>gni_pc</th><th scope=col>gdp_pc</th></tr>\n",
              "\t<tr><th scope=col>&lt;dbl&gt;</th><th scope=col>&lt;chr&gt;</th><th scope=col>&lt;int&gt;</th><th scope=col>&lt;dbl&gt;</th><th scope=col>&lt;dbl&gt;</th><th scope=col>&lt;dbl&gt;</th><th scope=col>&lt;dbl&gt;</th></tr>\n",
              "</thead>\n",
              "<tbody>\n",
              "\t<tr><td>1</td><td>Afghanistan</td><td>2010</td><td>  -6.57937699</td><td>-2.5791520</td><td> 544.2636</td><td> 543.3065</td></tr>\n",
              "\t<tr><td>1</td><td>Afghanistan</td><td>2011</td><td>  -1.69457739</td><td>-2.5020600</td><td> 590.5454</td><td> 591.1900</td></tr>\n",
              "\t<tr><td>1</td><td>Afghanistan</td><td>2012</td><td>  -2.10788211</td><td>-2.4185610</td><td> 639.8518</td><td> 638.8459</td></tr>\n",
              "\t<tr><td>1</td><td>Afghanistan</td><td>2013</td><td>  -1.48046579</td><td>-2.5193490</td><td> 626.4937</td><td> 624.3155</td></tr>\n",
              "\t<tr><td>1</td><td>Afghanistan</td><td>2014</td><td>  -1.28838419</td><td>-2.4110680</td><td> 614.1523</td><td> 614.2233</td></tr>\n",
              "\t<tr><td>1</td><td>Afghanistan</td><td>2015</td><td>  -4.85225435</td><td>-2.5712220</td><td> 561.0337</td><td> 556.0072</td></tr>\n",
              "\t<tr><td>1</td><td>Afghanistan</td><td>2016</td><td>  -2.24924980</td><td>-2.6710540</td><td> 517.1151</td><td> 512.0128</td></tr>\n",
              "\t<tr><td>1</td><td>Afghanistan</td><td>2017</td><td>  -1.10957235</td><td>-2.8010840</td><td> 523.4791</td><td> 516.6799</td></tr>\n",
              "\t<tr><td>1</td><td>Afghanistan</td><td>2018</td><td>  -2.16914810</td><td>-2.7638640</td><td> 490.7155</td><td> 485.6684</td></tr>\n",
              "\t<tr><td>1</td><td>Afghanistan</td><td>2019</td><td>   0.07666557</td><td>-2.6555310</td><td> 502.0353</td><td> 494.1793</td></tr>\n",
              "\t<tr><td>2</td><td>Albania    </td><td>2010</td><td>-358.22319100</td><td>-0.1914829</td><td>4053.4434</td><td>4094.3484</td></tr>\n",
              "\t<tr><td>2</td><td>Albania    </td><td>2011</td><td>-291.41475241</td><td>-0.2823794</td><td>4438.2921</td><td>4437.1426</td></tr>\n",
              "\t<tr><td>2</td><td>Albania    </td><td>2012</td><td>-287.82331238</td><td>-0.1436316</td><td>4215.9913</td><td>4247.6300</td></tr>\n",
              "\t<tr><td>2</td><td>Albania    </td><td>2013</td><td>-423.36283008</td><td> 0.0919298</td><td>4489.1628</td><td>4413.0620</td></tr>\n",
              "\t<tr><td>2</td><td>Albania    </td><td>2014</td><td>-371.84337790</td><td> 0.4859862</td><td>4620.6089</td><td>4578.6332</td></tr>\n",
              "\t<tr><td>2</td><td>Albania    </td><td>2015</td><td>-315.98423231</td><td> 0.3461291</td><td>3999.6516</td><td>3952.8025</td></tr>\n",
              "\t<tr><td>2</td><td>Albania    </td><td>2016</td><td>-360.67195764</td><td> 0.3446447</td><td>4191.0326</td><td>4124.0554</td></tr>\n",
              "\t<tr><td>2</td><td>Albania    </td><td>2017</td><td>-392.87946381</td><td> 0.3784748</td><td>4542.0832</td><td>4531.0194</td></tr>\n",
              "\t<tr><td>2</td><td>Albania    </td><td>2018</td><td>-421.75918506</td><td> 0.3705156</td><td>5281.2308</td><td>5287.6637</td></tr>\n",
              "\t<tr><td>2</td><td>Albania    </td><td>2019</td><td>-406.79000080</td><td> 0.1111686</td><td>5325.0330</td><td>5395.6595</td></tr>\n",
              "\t<tr><td>3</td><td>Algeria    </td><td>2010</td><td> -57.84556706</td><td>-1.2593680</td><td>4468.3994</td><td>4480.7863</td></tr>\n",
              "\t<tr><td>3</td><td>Algeria    </td><td>2011</td><td> -55.57117967</td><td>-1.3605610</td><td>5399.9372</td><td>5455.6794</td></tr>\n",
              "\t<tr><td>3</td><td>Algeria    </td><td>2012</td><td> -41.24354753</td><td>-1.3250430</td><td>5521.4000</td><td>5592.2201</td></tr>\n",
              "\t<tr><td>3</td><td>Algeria    </td><td>2013</td><td> -51.48474303</td><td>-1.2023710</td><td>5390.6551</td><td>5499.5873</td></tr>\n",
              "\t<tr><td>3</td><td>Algeria    </td><td>2014</td><td> -39.07073552</td><td>-1.1905350</td><td>5366.2540</td><td>5493.0567</td></tr>\n",
              "\t<tr><td>3</td><td>Algeria    </td><td>2015</td><td>  16.08223152</td><td>-1.0901600</td><td>4069.3509</td><td>4177.8895</td></tr>\n",
              "\t<tr><td>3</td><td>Algeria    </td><td>2016</td><td> -39.25199008</td><td>-1.0975260</td><td>3907.9787</td><td>3946.4524</td></tr>\n",
              "\t<tr><td>3</td><td>Algeria    </td><td>2017</td><td> -29.93077068</td><td>-0.9157991</td><td>4048.3768</td><td>4109.6982</td></tr>\n",
              "\t<tr><td>3</td><td>Algeria    </td><td>2018</td><td> -14.67979653</td><td>-0.8361196</td><td>4037.7331</td><td>4142.0186</td></tr>\n",
              "\t<tr><td>3</td><td>Algeria    </td><td>2019</td><td> -31.35785940</td><td>-1.0443430</td><td>3892.1312</td><td>3989.6683</td></tr>\n",
              "\t<tr><td>⋮</td><td>⋮</td><td>⋮</td><td>⋮</td><td>⋮</td><td>⋮</td><td>⋮</td></tr>\n",
              "\t<tr><td>164</td><td>West Bank and Gaza</td><td>2010</td><td> -32.185442</td><td>-1.9735750</td><td>2715.3098</td><td>2557.0756</td></tr>\n",
              "\t<tr><td>164</td><td>West Bank and Gaza</td><td>2011</td><td>-122.943097</td><td>-1.9356200</td><td>3073.8200</td><td>2880.7984</td></tr>\n",
              "\t<tr><td>164</td><td>West Bank and Gaza</td><td>2012</td><td>  -7.365104</td><td>-1.9560320</td><td>3282.8911</td><td>3067.4387</td></tr>\n",
              "\t<tr><td>164</td><td>West Bank and Gaza</td><td>2013</td><td> -54.957602</td><td>-1.7788230</td><td>3599.9144</td><td>3315.2975</td></tr>\n",
              "\t<tr><td>164</td><td>West Bank and Gaza</td><td>2014</td><td>   6.647750</td><td>-1.9850110</td><td>3707.3627</td><td>3352.1126</td></tr>\n",
              "\t<tr><td>164</td><td>West Bank and Gaza</td><td>2015</td><td>  -6.947838</td><td>-2.1605020</td><td>3673.1761</td><td>3272.1543</td></tr>\n",
              "\t<tr><td>164</td><td>West Bank and Gaza</td><td>2016</td><td> -78.188967</td><td>-1.9763990</td><td>3961.7017</td><td>3527.6138</td></tr>\n",
              "\t<tr><td>164</td><td>West Bank and Gaza</td><td>2017</td><td> -42.918989</td><td>-1.6599770</td><td>4098.2714</td><td>3620.3605</td></tr>\n",
              "\t<tr><td>164</td><td>West Bank and Gaza</td><td>2018</td><td> -61.830642</td><td>-1.8163360</td><td>4172.3653</td><td>3562.3309</td></tr>\n",
              "\t<tr><td>164</td><td>West Bank and Gaza</td><td>2019</td><td> -40.201615</td><td>-1.8952900</td><td>4303.8171</td><td>3656.8583</td></tr>\n",
              "\t<tr><td>165</td><td>Zambia            </td><td>2010</td><td> -46.589788</td><td> 0.5153514</td><td>1389.2826</td><td>1489.4591</td></tr>\n",
              "\t<tr><td>165</td><td>Zambia            </td><td>2011</td><td> -79.147419</td><td> 0.5097738</td><td>1590.4030</td><td>1672.9075</td></tr>\n",
              "\t<tr><td>165</td><td>Zambia            </td><td>2012</td><td>-168.224826</td><td> 0.6609625</td><td>1733.2062</td><td>1763.0694</td></tr>\n",
              "\t<tr><td>165</td><td>Zambia            </td><td>2013</td><td>-113.243307</td><td> 0.4359333</td><td>1801.3802</td><td>1878.3468</td></tr>\n",
              "\t<tr><td>165</td><td>Zambia            </td><td>2014</td><td>-161.287882</td><td> 0.1562120</td><td>1726.5859</td><td>1762.4278</td></tr>\n",
              "\t<tr><td>165</td><td>Zambia            </td><td>2015</td><td>-108.584032</td><td> 0.1516949</td><td>1312.3448</td><td>1338.2909</td></tr>\n",
              "\t<tr><td>165</td><td>Zambia            </td><td>2016</td><td> -29.706095</td><td> 0.1428080</td><td>1241.2606</td><td>1280.8065</td></tr>\n",
              "\t<tr><td>165</td><td>Zambia            </td><td>2017</td><td> -69.989030</td><td> 0.1462433</td><td>1467.1510</td><td>1535.1966</td></tr>\n",
              "\t<tr><td>165</td><td>Zambia            </td><td>2018</td><td> -20.926793</td><td> 0.0856044</td><td>1492.9237</td><td>1516.3684</td></tr>\n",
              "\t<tr><td>165</td><td>Zambia            </td><td>2019</td><td>   8.299947</td><td>-0.1138469</td><td>1282.3491</td><td>1305.0010</td></tr>\n",
              "\t<tr><td>166</td><td>Zimbabwe          </td><td>2010</td><td>  -9.654221</td><td>-1.1040140</td><td> 936.5072</td><td> 948.3315</td></tr>\n",
              "\t<tr><td>166</td><td>Zimbabwe          </td><td>2011</td><td> -26.701673</td><td>-0.9453285</td><td>1074.5508</td><td>1093.6534</td></tr>\n",
              "\t<tr><td>166</td><td>Zimbabwe          </td><td>2012</td><td> -26.675259</td><td>-0.7786620</td><td>1282.8441</td><td>1304.9680</td></tr>\n",
              "\t<tr><td>166</td><td>Zimbabwe          </td><td>2013</td><td> -27.943029</td><td>-0.6659498</td><td>1408.2507</td><td>1429.9985</td></tr>\n",
              "\t<tr><td>166</td><td>Zimbabwe          </td><td>2014</td><td> -34.798711</td><td>-0.7135702</td><td>1409.8138</td><td>1434.8963</td></tr>\n",
              "\t<tr><td>166</td><td>Zimbabwe          </td><td>2015</td><td> -28.896876</td><td>-0.6181563</td><td>1418.5675</td><td>1445.0697</td></tr>\n",
              "\t<tr><td>166</td><td>Zimbabwe          </td><td>2016</td><td> -24.448008</td><td>-0.6199379</td><td>1436.4156</td><td>1464.5890</td></tr>\n",
              "\t<tr><td>166</td><td>Zimbabwe          </td><td>2017</td><td> -21.511673</td><td>-0.7087693</td><td>1213.4756</td><td>1235.1890</td></tr>\n",
              "\t<tr><td>166</td><td>Zimbabwe          </td><td>2018</td><td> -49.663268</td><td>-0.7227737</td><td>1233.4939</td><td>1254.6423</td></tr>\n",
              "\t<tr><td>166</td><td>Zimbabwe          </td><td>2019</td><td> -16.871853</td><td>-0.9597493</td><td>1290.2705</td><td>1316.7407</td></tr>\n",
              "</tbody>\n",
              "</table>\n"
            ]
          },
          "metadata": {}
        }
      ]
    },
    {
      "cell_type": "code",
      "source": [
        "# summarize dataset\n",
        "summary(dd_pc2)"
      ],
      "metadata": {
        "colab": {
          "base_uri": "https://localhost:8080/",
          "height": 267
        },
        "id": "OVQw99Gz6txn",
        "outputId": "f0cf9d02-c1ea-400e-de52-f1698b555d14"
      },
      "execution_count": 12,
      "outputs": [
        {
          "output_type": "display_data",
          "data": {
            "text/plain": [
              "       X         country_name            year          fdi_pc          \n",
              " Min.   :  1.0   Length:1660        Min.   :2010   Min.   :-280375.21  \n",
              " 1st Qu.: 42.0   Class :character   1st Qu.:2012   1st Qu.:   -292.37  \n",
              " Median : 83.5   Mode  :character   Median :2014   Median :    -80.99  \n",
              " Mean   : 83.5                      Mean   :2014   Mean   :   -317.24  \n",
              " 3rd Qu.:125.0                      3rd Qu.:2017   3rd Qu.:    -14.62  \n",
              " Max.   :166.0                      Max.   :2019   Max.   : 278715.51  \n",
              "    pol_stab             gni_pc            gdp_pc       \n",
              " Min.   :-2.810035   Min.   :    314   Min.   :    316  \n",
              " 1st Qu.:-0.594227   1st Qu.:   2226   1st Qu.:   2174  \n",
              " Median : 0.047734   Median :   5677   Median :   5915  \n",
              " Mean   :-0.009758   Mean   :  17318   Mean   :  17759  \n",
              " 3rd Qu.: 0.781028   3rd Qu.:  16856   3rd Qu.:  17543  \n",
              " Max.   : 1.639301   Max.   :4359868   Max.   :4359275  "
            ]
          },
          "metadata": {}
        }
      ]
    },
    {
      "cell_type": "code",
      "source": [
        "dataprep.out2 <- dataprep(dd_pc2, \n",
        "                         predictors = \n",
        "                           c(\"pol_stab\", \n",
        "                             \"gdp_pc\"), \n",
        "                         predictors.op = \"mean\",\n",
        "                         special.predictors = list(\n",
        "                           list(\"fdi_pc\", 2011, \"mean\"),\n",
        "                           list(\"fdi_pc\", 2012, \"mean\"),\n",
        "                           list(\"fdi_pc\", 2013, \"mean\"),\n",
        "                           list(\"fdi_pc\", 2014, \"mean\")\n",
        "                           ),             \n",
        "                         dependent = \"fdi_pc\",\n",
        "                         time.variable = 'year', \n",
        "                         time.predictors.prior = c(2010:2016), \n",
        "                         unit.names.variable = \"country_name\",\n",
        "                         time.optimize.ssr = c(2010:2016), \n",
        "                         time.plot = 2010:2019, \n",
        "                         unit.variable = \"X\", \n",
        "                         treatment.identifier = \"Nigeria\",\n",
        "                         controls.identifier = c(setdiff(1:48, 34))\n",
        "                         )\n",
        "\n",
        "synth.out2 <- synth(dataprep.out2)\n",
        "\n",
        "synth.tables2 <- synth.tab(\n",
        "  dataprep.res = dataprep.out2, \n",
        "  synth.res = synth.out2)\n",
        "\n",
        "print(synth.tables2)\n",
        "\n",
        "path.plot(dataprep.res = dataprep.out2,\n",
        "          synth.res = synth.out2\n",
        "          ,Ylim = c(-500, 500)\n",
        "          )\n",
        "\n",
        "gaps.plot(dataprep.res = dataprep.out2,\n",
        "          synth.res = synth.out2 \n",
        "          ,Ylim = c(-100, 100)\n",
        "          )"
      ],
      "metadata": {
        "colab": {
          "base_uri": "https://localhost:8080/",
          "height": 1000
        },
        "id": "lgG9uQfaBUZo",
        "outputId": "7a56890e-a282-4e24-bc66-37f31ddb7688"
      },
      "execution_count": 13,
      "outputs": [
        {
          "output_type": "stream",
          "name": "stdout",
          "text": [
            "\n",
            "X1, X0, Z1, Z0 all come directly from dataprep object.\n",
            "\n",
            "\n",
            "**************** \n",
            " searching for synthetic control unit  \n",
            " \n",
            "\n",
            "**************** \n",
            "**************** \n",
            "**************** \n",
            "\n",
            "MSPE (LOSS V): 15.42211 \n",
            "\n",
            "solution.v:\n",
            " 0.7371825 0.006549775 0.01842066 0.01133154 0.1123181 0.1141975 \n",
            "\n",
            "solution.w:\n",
            " 0.7785269 0.003924704 0.01089149 0.007085591 0.001636351 0.004284184 0.005029335 0.0006186596 0.002799806 6.2552e-06 0.006995949 0.002406149 0.01170559 0.004155531 0.0004036341 0.004984251 0.003674397 0.0009358863 0.001804573 0.005600662 0.006603672 0.001604389 0.005837854 0.001868869 0.003548772 0.006982718 0.002310417 0.004762613 0.008170788 0.001063052 0.002907848 0.006734908 0.01575353 0.002438229 0.01044366 0.002555768 0.001468661 0.002859283 0.009147354 0.004744599 0.001578864 0.0040836 0.005605266 0.01254641 0.004270395 0.006756416 0.00588217 \n",
            "\n",
            "$tab.pred\n",
            "                     Treated Synthetic Sample Mean\n",
            "pol_stab              -2.033    -2.033       0.107\n",
            "gdp_pc              2630.839  2623.165   15058.663\n",
            "special.fdi_pc.2011  -49.288   -48.426    -314.439\n",
            "special.fdi_pc.2012  -33.127   -27.509      48.746\n",
            "special.fdi_pc.2013  -25.240   -25.645    -153.865\n",
            "special.fdi_pc.2014  -17.457   -16.584      64.742\n",
            "\n",
            "$tab.v\n",
            "                    v.weights\n",
            "pol_stab            0.737    \n",
            "gdp_pc              0.007    \n",
            "special.fdi_pc.2011 0.018    \n",
            "special.fdi_pc.2012 0.011    \n",
            "special.fdi_pc.2013 0.112    \n",
            "special.fdi_pc.2014 0.114    \n",
            "\n",
            "$tab.w\n",
            "   w.weights             unit.names unit.numbers\n",
            "1      0.779            Afghanistan            1\n",
            "2      0.004                Albania            2\n",
            "3      0.011                Algeria            3\n",
            "4      0.007                 Angola            4\n",
            "5      0.002    Antigua and Barbuda            5\n",
            "6      0.004              Argentina            6\n",
            "7      0.005                Armenia            7\n",
            "8      0.001                  Aruba            8\n",
            "9      0.003              Australia            9\n",
            "10     0.000                Austria           10\n",
            "11     0.007             Azerbaijan           11\n",
            "12     0.002           Bahamas, The           12\n",
            "13     0.012             Bangladesh           13\n",
            "14     0.004                Belarus           14\n",
            "15     0.000                Belgium           15\n",
            "16     0.005                 Belize           16\n",
            "17     0.004                  Benin           17\n",
            "18     0.001                Bermuda           18\n",
            "19     0.002                 Bhutan           19\n",
            "20     0.006                Bolivia           20\n",
            "21     0.007 Bosnia and Herzegovina           21\n",
            "22     0.002               Botswana           22\n",
            "23     0.006                 Brazil           23\n",
            "24     0.002      Brunei Darussalam           24\n",
            "25     0.004               Bulgaria           25\n",
            "26     0.007           Burkina Faso           26\n",
            "27     0.002             Cabo Verde           27\n",
            "28     0.005               Cambodia           28\n",
            "29     0.008               Cameroon           29\n",
            "30     0.001                 Canada           30\n",
            "31     0.003                  Chile           31\n",
            "32     0.007                  China           32\n",
            "33     0.016               Colombia           33\n",
            "35     0.002             Costa Rica           35\n",
            "36     0.010          Cote d'Ivoire           36\n",
            "37     0.003                Croatia           37\n",
            "38     0.001                 Cyprus           38\n",
            "39     0.003         Czech Republic           39\n",
            "40     0.009                Denmark           40\n",
            "41     0.005               Djibouti           41\n",
            "42     0.002               Dominica           42\n",
            "43     0.004     Dominican Republic           43\n",
            "44     0.006                Ecuador           44\n",
            "45     0.013       Egypt, Arab Rep.           45\n",
            "46     0.004            El Salvador           46\n",
            "47     0.007                Estonia           47\n",
            "48     0.006               Eswatini           48\n",
            "\n",
            "$tab.loss\n",
            "           Loss W   Loss V\n",
            "[1,] 3.075862e-07 15.42211\n",
            "\n"
          ]
        },
        {
          "output_type": "display_data",
          "data": {
            "image/png": "[encoded data removed]",
            "text/plain": [
              "Plot with title “NA”"
            ]
          },
          "metadata": {
            "image/png": {
              "width": 420,
              "height": 420
            }
          }
        },
        {
          "output_type": "display_data",
          "data": {
            "image/png": "[encoded data removed]",
            "text/plain": [
              "Plot with title “Gaps: Treated - Synthetic”"
            ]
          },
          "metadata": {
            "image/png": {
              "width": 420,
              "height": 420
            }
          }
        }
      ]
    },
    {
      "cell_type": "code",
      "source": [
        ""
      ],
      "metadata": {
        "id": "AM7KnpllCbyO"
      },
      "execution_count": null,
      "outputs": []
    }
  ]
}